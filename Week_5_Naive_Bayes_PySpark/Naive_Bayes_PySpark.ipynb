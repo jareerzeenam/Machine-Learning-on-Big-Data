{
  "cells": [
    {
      "cell_type": "markdown",
      "metadata": {
        "id": "POFRGbv6QgZp"
      },
      "source": [
        "# **Complete Guide to Gaussian Naive Bayes Classification in PySpark ML:  Optimization insights**\n",
        "\n",
        "### **`Dr Amin Karami (PhD, FHEA, EE), UEL UK - Docklands Campus`**\n",
        "\n",
        "`E: amin.karami@ymail.com`\n",
        "\n",
        "`W: https://www.youtube.com/@AminKarami`\n",
        "\n",
        "`W: https://www.aminkarami.com`\n",
        "\n",
        "---\n",
        "\n",
        "**Learning Outcomes**:\n",
        "\n",
        "- Gain a comprehensive understanding of the Gaussian Naive Bayes algorithm and its underlying assumptions in the context of classification tasks\n",
        "\n",
        "- Learn how to preprocess and prepare your dataset for Gaussian Naive Bayes classification using PySpark ML's powerful data transformation and feature engineering capabilities\n",
        "\n",
        "- Explore various evaluation metrics and techniques to assess the performance of your Gaussian Naive Bayes classifier\n",
        "\n",
        "- Dive into advanced techniques for tuning and optimizing your Gaussian Naive Bayes model, including greedy search and random search methods\n"
      ]
    },
    {
      "cell_type": "code",
      "execution_count": null,
      "metadata": {
        "id": "7PLOpJX5G99S"
      },
      "outputs": [],
      "source": [
        "# !pip3 install pyspark"
      ]
    },
    {
      "cell_type": "markdown",
      "metadata": {
        "id": "PiN5XAUuQxUj"
      },
      "source": [
        "# **Step 1:** Import the required libraries and initialize SparkSession."
      ]
    },
    {
      "cell_type": "code",
      "execution_count": 1,
      "metadata": {
        "id": "8V-y6jQPGyKm"
      },
      "outputs": [
        {
          "data": {
            "text/html": [
              "\n",
              "            <div>\n",
              "                <p><b>SparkSession - in-memory</b></p>\n",
              "                \n",
              "        <div>\n",
              "            <p><b>SparkContext</b></p>\n",
              "\n",
              "            <p><a href=\"http://10.210.78.45:4040\">Spark UI</a></p>\n",
              "\n",
              "            <dl>\n",
              "              <dt>Version</dt>\n",
              "                <dd><code>v3.5.0</code></dd>\n",
              "              <dt>Master</dt>\n",
              "                <dd><code>local[*]</code></dd>\n",
              "              <dt>AppName</dt>\n",
              "                <dd><code>NaiveBayesClassifierExample</code></dd>\n",
              "            </dl>\n",
              "        </div>\n",
              "        \n",
              "            </div>\n",
              "        "
            ],
            "text/plain": [
              "<pyspark.sql.session.SparkSession at 0x2a1c58c05d0>"
            ]
          },
          "execution_count": 1,
          "metadata": {},
          "output_type": "execute_result"
        }
      ],
      "source": [
        "from pyspark.sql import SparkSession\n",
        "from pyspark.ml.feature import StringIndexer, VectorAssembler, StandardScaler, MinMaxScaler, RobustScaler\n",
        "from pyspark.ml.classification import NaiveBayes\n",
        "from pyspark.ml.evaluation import MulticlassClassificationEvaluator\n",
        "\n",
        "# Initialize SparkSession\n",
        "spark = SparkSession.builder \\\n",
        "                    .appName(\"NaiveBayesClassifierExample\") \\\n",
        "                    .master(\"local[*]\") \\\n",
        "                    .config(\"spark.executor.memory\", \"4g\") \\\n",
        "                    .config(\"spark.driver.memory\", \"2g\") \\\n",
        "                    .config(\"spark.executor.cores\", \"2\") \\\n",
        "                    .config(\"spark.sql.inMemoryColumnarStorage.compressed\", \"true\") \\\n",
        "                    .getOrCreate()\n",
        "\n",
        "spark"
      ]
    },
    {
      "cell_type": "markdown",
      "metadata": {
        "id": "WD0CTmfUQ3Ub"
      },
      "source": [
        "# **Step 2:** Load and preprocess the data."
      ]
    },
    {
      "cell_type": "code",
      "execution_count": null,
      "metadata": {
        "id": "-TFY4zdDYR1D"
      },
      "outputs": [],
      "source": [
        "# from google.colab import drive\n",
        "# drive.mount('/content/drive')"
      ]
    },
    {
      "cell_type": "markdown",
      "metadata": {
        "id": "XRvmZc8wqVCp"
      },
      "source": [
        "# **KDDCup Data**:\n",
        "\n",
        "The dataset contains network intrusion detection data, which is used to develop and test algorithms for detecting unauthorized access to computer networks. The KDD Cup 1999 Data has been widely used in the research community for developing and testing intrusion detection systems.\n",
        "\n",
        "URL: https://kdd.ics.uci.edu/databases/kddcup99/kddcup99.html\n",
        "\n",
        "Data Description: https://kdd.ics.uci.edu/databases/kddcup99/task.html\n",
        "\n",
        "Features: https://kdd.ics.uci.edu/databases/kddcup99/kddcup.names\n",
        "\n",
        "Labels: https://kdd.ics.uci.edu/databases/kddcup99/training_attack_types\n",
        "\n",
        "\n",
        "# Data Collection:\n",
        "\n",
        "[The full data set](https://kdd.ics.uci.edu/databases/kddcup99/kddcup.data.gz) (18M; 743M Uncompressed)\n",
        "\n",
        "[A 10% subset](https://kdd.ics.uci.edu/databases/kddcup99/kddcup.data_10_percent.gz) (2.1M; 75M Uncompressed)\n"
      ]
    },
    {
      "cell_type": "code",
      "execution_count": 3,
      "metadata": {
        "id": "YXsh_MXQXDEk"
      },
      "outputs": [
        {
          "name": "stdout",
          "output_type": "stream",
          "text": [
            "+---+---+----+---+---+----+---+---+---+---+----+----+----+----+----+----+----+----+----+----+----+----+----+----+----+----+----+----+----+----+----+----+----+----+----+----+----+----+----+----+----+-------+\n",
            "|_c0|_c1| _c2|_c3|_c4| _c5|_c6|_c7|_c8|_c9|_c10|_c11|_c12|_c13|_c14|_c15|_c16|_c17|_c18|_c19|_c20|_c21|_c22|_c23|_c24|_c25|_c26|_c27|_c28|_c29|_c30|_c31|_c32|_c33|_c34|_c35|_c36|_c37|_c38|_c39|_c40|   _c41|\n",
            "+---+---+----+---+---+----+---+---+---+---+----+----+----+----+----+----+----+----+----+----+----+----+----+----+----+----+----+----+----+----+----+----+----+----+----+----+----+----+----+----+----+-------+\n",
            "|  0|tcp|http| SF|181|5450|  0|  0|  0|  0|   0|   1|   0|   0|   0|   0|   0|   0|   0|   0|   0|   0|   8|   8|0.00|0.00|0.00|0.00|1.00|0.00|0.00|   9|   9|1.00|0.00|0.11|0.00|0.00|0.00|0.00|0.00|normal.|\n",
            "|  0|tcp|http| SF|239| 486|  0|  0|  0|  0|   0|   1|   0|   0|   0|   0|   0|   0|   0|   0|   0|   0|   8|   8|0.00|0.00|0.00|0.00|1.00|0.00|0.00|  19|  19|1.00|0.00|0.05|0.00|0.00|0.00|0.00|0.00|normal.|\n",
            "|  0|tcp|http| SF|235|1337|  0|  0|  0|  0|   0|   1|   0|   0|   0|   0|   0|   0|   0|   0|   0|   0|   8|   8|0.00|0.00|0.00|0.00|1.00|0.00|0.00|  29|  29|1.00|0.00|0.03|0.00|0.00|0.00|0.00|0.00|normal.|\n",
            "|  0|tcp|http| SF|219|1337|  0|  0|  0|  0|   0|   1|   0|   0|   0|   0|   0|   0|   0|   0|   0|   0|   6|   6|0.00|0.00|0.00|0.00|1.00|0.00|0.00|  39|  39|1.00|0.00|0.03|0.00|0.00|0.00|0.00|0.00|normal.|\n",
            "|  0|tcp|http| SF|217|2032|  0|  0|  0|  0|   0|   1|   0|   0|   0|   0|   0|   0|   0|   0|   0|   0|   6|   6|0.00|0.00|0.00|0.00|1.00|0.00|0.00|  49|  49|1.00|0.00|0.02|0.00|0.00|0.00|0.00|0.00|normal.|\n",
            "+---+---+----+---+---+----+---+---+---+---+----+----+----+----+----+----+----+----+----+----+----+----+----+----+----+----+----+----+----+----+----+----+----+----+----+----+----+----+----+----+----+-------+\n",
            "only showing top 5 rows\n",
            "\n",
            "494021\n",
            "1\n"
          ]
        }
      ],
      "source": [
        "# Load the compressed file as a text file\n",
        "df = spark.read.csv(\"kddcup.data_10_percent.gz\", header = False)\n",
        "\n",
        "# Display the DataFrame\n",
        "df.show(5)\n",
        "\n",
        "# more info\n",
        "print(df.count())\n",
        "print(df.rdd.getNumPartitions())"
      ]
    },
    {
      "cell_type": "markdown",
      "metadata": {
        "id": "FLTVngDXbWCm"
      },
      "source": [
        "# Add header"
      ]
    },
    {
      "cell_type": "code",
      "execution_count": 4,
      "metadata": {
        "id": "UuE2dHnAbXuW"
      },
      "outputs": [
        {
          "name": "stdout",
          "output_type": "stream",
          "text": [
            "+--------+-------------+-------+----+---------+---------+----+--------------+------+----+-----------------+---------+---------------+----------+------------+--------+------------------+----------+----------------+-----------------+-------------+--------------+-----+---------+-----------+---------------+-----------+---------------+-------------+-------------+------------------+--------------+------------------+----------------------+----------------------+---------------------------+---------------------------+--------------------+------------------------+--------------------+------------------------+-----------------+\n",
            "|duration|protocol_type|service|flag|src_bytes|dst_bytes|land|wrong_fragment|urgent|host|num_failed_logins|logged_in|num_compromised|root_shell|su_attempted|num_root|num_file_creations|num_shells|num_access_files|num_outbound_cmds|is_host_login|is_guest_login|count|srv_count|serror_rate|srv_serror_rate|rerror_rate|srv_rerror_rate|same_srv_rate|diff_srv_rate|srv_diff_host_rate|dst_host_count|dst_host_srv_count|dst_host_same_srv_rate|dst_host_diff_srv_rate|dst_host_same_src_port_rate|dst_host_srv_diff_host_rate|dst_host_serror_rate|dst_host_srv_serror_rate|dst_host_rerror_rate|dst_host_srv_rerror_rate|connection_status|\n",
            "+--------+-------------+-------+----+---------+---------+----+--------------+------+----+-----------------+---------+---------------+----------+------------+--------+------------------+----------+----------------+-----------------+-------------+--------------+-----+---------+-----------+---------------+-----------+---------------+-------------+-------------+------------------+--------------+------------------+----------------------+----------------------+---------------------------+---------------------------+--------------------+------------------------+--------------------+------------------------+-----------------+\n",
            "|       0|          tcp|   http|  SF|      181|     5450|   0|             0|     0|   0|                0|        1|              0|         0|           0|       0|                 0|         0|               0|                0|            0|             0|    8|        8|       0.00|           0.00|       0.00|           0.00|         1.00|         0.00|              0.00|             9|                 9|                  1.00|                  0.00|                       0.11|                       0.00|                0.00|                    0.00|                0.00|                    0.00|          normal.|\n",
            "|       0|          tcp|   http|  SF|      239|      486|   0|             0|     0|   0|                0|        1|              0|         0|           0|       0|                 0|         0|               0|                0|            0|             0|    8|        8|       0.00|           0.00|       0.00|           0.00|         1.00|         0.00|              0.00|            19|                19|                  1.00|                  0.00|                       0.05|                       0.00|                0.00|                    0.00|                0.00|                    0.00|          normal.|\n",
            "|       0|          tcp|   http|  SF|      235|     1337|   0|             0|     0|   0|                0|        1|              0|         0|           0|       0|                 0|         0|               0|                0|            0|             0|    8|        8|       0.00|           0.00|       0.00|           0.00|         1.00|         0.00|              0.00|            29|                29|                  1.00|                  0.00|                       0.03|                       0.00|                0.00|                    0.00|                0.00|                    0.00|          normal.|\n",
            "|       0|          tcp|   http|  SF|      219|     1337|   0|             0|     0|   0|                0|        1|              0|         0|           0|       0|                 0|         0|               0|                0|            0|             0|    6|        6|       0.00|           0.00|       0.00|           0.00|         1.00|         0.00|              0.00|            39|                39|                  1.00|                  0.00|                       0.03|                       0.00|                0.00|                    0.00|                0.00|                    0.00|          normal.|\n",
            "|       0|          tcp|   http|  SF|      217|     2032|   0|             0|     0|   0|                0|        1|              0|         0|           0|       0|                 0|         0|               0|                0|            0|             0|    6|        6|       0.00|           0.00|       0.00|           0.00|         1.00|         0.00|              0.00|            49|                49|                  1.00|                  0.00|                       0.02|                       0.00|                0.00|                    0.00|                0.00|                    0.00|          normal.|\n",
            "+--------+-------------+-------+----+---------+---------+----+--------------+------+----+-----------------+---------+---------------+----------+------------+--------+------------------+----------+----------------+-----------------+-------------+--------------+-----+---------+-----------+---------------+-----------+---------------+-------------+-------------+------------------+--------------+------------------+----------------------+----------------------+---------------------------+---------------------------+--------------------+------------------------+--------------------+------------------------+-----------------+\n",
            "only showing top 5 rows\n",
            "\n"
          ]
        }
      ],
      "source": [
        "df = df.withColumnRenamed(\"_c0\",\"duration\") \\\n",
        "      .withColumnRenamed(\"_c1\",\"protocol_type\")\\\n",
        "      .withColumnRenamed(\"_c2\",\"service\")\\\n",
        "      .withColumnRenamed(\"_c3\",\"flag\")\\\n",
        "      .withColumnRenamed(\"_c4\",\"src_bytes\")\\\n",
        "      .withColumnRenamed(\"_c5\",\"dst_bytes\")\\\n",
        "      .withColumnRenamed(\"_c6\",\"land\")\\\n",
        "      .withColumnRenamed(\"_c7\",\"wrong_fragment\")\\\n",
        "      .withColumnRenamed(\"_c8\",\"urgent\")\\\n",
        "      .withColumnRenamed(\"_c9\",\"host\")\\\n",
        "      .withColumnRenamed(\"_c10\",\"num_failed_logins\")\\\n",
        "      .withColumnRenamed(\"_c11\",\"logged_in\")\\\n",
        "      .withColumnRenamed(\"_c12\",\"num_compromised\")\\\n",
        "      .withColumnRenamed(\"_c13\",\"root_shell\")\\\n",
        "      .withColumnRenamed(\"_c14\",\"su_attempted\")\\\n",
        "      .withColumnRenamed(\"_c15\",\"num_root\")\\\n",
        "      .withColumnRenamed(\"_c16\",\"num_file_creations\")\\\n",
        "      .withColumnRenamed(\"_c17\",\"num_shells\")\\\n",
        "      .withColumnRenamed(\"_c18\",\"num_access_files\")\\\n",
        "      .withColumnRenamed(\"_c19\",\"num_outbound_cmds\")\\\n",
        "      .withColumnRenamed(\"_c20\",\"is_host_login\")\\\n",
        "      .withColumnRenamed(\"_c21\",\"is_guest_login\")\\\n",
        "      .withColumnRenamed(\"_c22\",\"count\")\\\n",
        "      .withColumnRenamed(\"_c23\",\"srv_count\")\\\n",
        "      .withColumnRenamed(\"_c24\",\"serror_rate\")\\\n",
        "      .withColumnRenamed(\"_c25\",\"srv_serror_rate\")\\\n",
        "      .withColumnRenamed(\"_c26\",\"rerror_rate\")\\\n",
        "      .withColumnRenamed(\"_c27\",\"srv_rerror_rate\")\\\n",
        "      .withColumnRenamed(\"_c28\",\"same_srv_rate\")\\\n",
        "      .withColumnRenamed(\"_c29\",\"diff_srv_rate\")\\\n",
        "      .withColumnRenamed(\"_c30\",\"srv_diff_host_rate\")\\\n",
        "      .withColumnRenamed(\"_c31\",\"dst_host_count\")\\\n",
        "      .withColumnRenamed(\"_c32\",\"dst_host_srv_count\")\\\n",
        "      .withColumnRenamed(\"_c33\",\"dst_host_same_srv_rate\")\\\n",
        "      .withColumnRenamed(\"_c34\",\"dst_host_diff_srv_rate\")\\\n",
        "      .withColumnRenamed(\"_c35\",\"dst_host_same_src_port_rate\")\\\n",
        "      .withColumnRenamed(\"_c36\",\"dst_host_srv_diff_host_rate\")\\\n",
        "      .withColumnRenamed(\"_c37\",\"dst_host_serror_rate\")\\\n",
        "      .withColumnRenamed(\"_c38\",\"dst_host_srv_serror_rate\")\\\n",
        "      .withColumnRenamed(\"_c39\",\"dst_host_rerror_rate\")\\\n",
        "      .withColumnRenamed(\"_c40\",\"dst_host_srv_rerror_rate\")\\\n",
        "      .withColumnRenamed(\"_c41\",\"connection_status\")\n",
        "\n",
        "df.show(5)"
      ]
    },
    {
      "cell_type": "markdown",
      "metadata": {
        "id": "4_L4jFZOc3k9"
      },
      "source": [
        "# Check the Multi-class labels (Multi-label classification)"
      ]
    },
    {
      "cell_type": "code",
      "execution_count": 23,
      "metadata": {
        "id": "dFYX4JHDc65k"
      },
      "outputs": [
        {
          "name": "stdout",
          "output_type": "stream",
          "text": [
            "+-----+\n",
            "|label|\n",
            "+-----+\n",
            "|  0.0|\n",
            "|  1.0|\n",
            "|  2.0|\n",
            "|  3.0|\n",
            "|  4.0|\n",
            "|  5.0|\n",
            "|  6.0|\n",
            "|  7.0|\n",
            "|  8.0|\n",
            "|  9.0|\n",
            "| 10.0|\n",
            "| 11.0|\n",
            "| 12.0|\n",
            "| 13.0|\n",
            "| 14.0|\n",
            "| 15.0|\n",
            "| 16.0|\n",
            "| 17.0|\n",
            "| 18.0|\n",
            "| 19.0|\n",
            "| 20.0|\n",
            "| 21.0|\n",
            "| 22.0|\n",
            "+-----+\n",
            "\n"
          ]
        }
      ],
      "source": [
        "df.select(\"connection_status\").distinct().show(30)\n"
      ]
    },
    {
      "cell_type": "markdown",
      "metadata": {
        "id": "USekfhiFfQcf"
      },
      "source": [
        "# Count the labels"
      ]
    },
    {
      "cell_type": "code",
      "execution_count": 9,
      "metadata": {
        "id": "EHH5gbTBfTRE"
      },
      "outputs": [
        {
          "name": "stdout",
          "output_type": "stream",
          "text": [
            "+-----------------+------+\n",
            "|connection_status| count|\n",
            "+-----------------+------+\n",
            "|           smurf.|280790|\n",
            "|         neptune.|107201|\n",
            "|          normal.| 97278|\n",
            "|            back.|  2203|\n",
            "|           satan.|  1589|\n",
            "|         ipsweep.|  1247|\n",
            "|       portsweep.|  1040|\n",
            "|     warezclient.|  1020|\n",
            "|        teardrop.|   979|\n",
            "|             pod.|   264|\n",
            "|            nmap.|   231|\n",
            "|    guess_passwd.|    53|\n",
            "| buffer_overflow.|    30|\n",
            "|            land.|    21|\n",
            "|     warezmaster.|    20|\n",
            "|            imap.|    12|\n",
            "|         rootkit.|    10|\n",
            "|      loadmodule.|     9|\n",
            "|       ftp_write.|     8|\n",
            "|        multihop.|     7|\n",
            "+-----------------+------+\n",
            "only showing top 20 rows\n",
            "\n"
          ]
        }
      ],
      "source": [
        "df.groupBy(\"connection_status\").count().orderBy('count', ascending = False).show()"
      ]
    },
    {
      "cell_type": "markdown",
      "metadata": {
        "id": "4uxQkQlKgjJq"
      },
      "source": [
        "# StringIndexer for other features"
      ]
    },
    {
      "cell_type": "code",
      "execution_count": 10,
      "metadata": {
        "id": "s7DAas8lgjes"
      },
      "outputs": [],
      "source": [
        "# to map labels to indicies\n",
        "\n",
        "indexer = StringIndexer(inputCol = 'connection_status', outputCol = 'label')\n",
        "df = indexer.fit(df).transform(df)"
      ]
    },
    {
      "cell_type": "code",
      "execution_count": 15,
      "metadata": {},
      "outputs": [
        {
          "name": "stdout",
          "output_type": "stream",
          "text": [
            "+-----+------+\n",
            "|label| count|\n",
            "+-----+------+\n",
            "|  0.0|280790|\n",
            "|  1.0|107201|\n",
            "|  2.0| 97278|\n",
            "|  3.0|  2203|\n",
            "|  4.0|  1589|\n",
            "|  5.0|  1247|\n",
            "|  6.0|  1040|\n",
            "|  7.0|  1020|\n",
            "|  8.0|   979|\n",
            "|  9.0|   264|\n",
            "| 10.0|   231|\n",
            "| 11.0|    53|\n",
            "| 12.0|    30|\n",
            "| 13.0|    21|\n",
            "| 14.0|    20|\n",
            "| 15.0|    12|\n",
            "| 16.0|    10|\n",
            "| 17.0|     9|\n",
            "| 18.0|     8|\n",
            "| 19.0|     7|\n",
            "+-----+------+\n",
            "only showing top 20 rows\n",
            "\n"
          ]
        }
      ],
      "source": [
        "df.groupBy(\"label\").count().orderBy('count', ascending = False).show()"
      ]
    },
    {
      "cell_type": "markdown",
      "metadata": {
        "id": "5Awz_GCxon__"
      },
      "source": [
        "# VectorAssembler\n",
        "Prepare the features column (Use VectorAssembler to combine features into a single vector column)"
      ]
    },
    {
      "cell_type": "code",
      "execution_count": 16,
      "metadata": {
        "id": "9iOAH4W1s_38"
      },
      "outputs": [
        {
          "name": "stdout",
          "output_type": "stream",
          "text": [
            "+---------+---------+----+--------------+------+----+-----------------+---------+---------------+----------+------------+--------+------------------+----------+----------------+-----------------+-------------+--------------+-----+---------+-----------+---------------+-----------+---------------+-------------+-------------+------------------+--------------+------------------+----------------------+----------------------+---------------------------+---------------------------+--------------------+------------------------+--------------------+------------------------+-----+\n",
            "|src_bytes|dst_bytes|land|wrong_fragment|urgent|host|num_failed_logins|logged_in|num_compromised|root_shell|su_attempted|num_root|num_file_creations|num_shells|num_access_files|num_outbound_cmds|is_host_login|is_guest_login|count|srv_count|serror_rate|srv_serror_rate|rerror_rate|srv_rerror_rate|same_srv_rate|diff_srv_rate|srv_diff_host_rate|dst_host_count|dst_host_srv_count|dst_host_same_srv_rate|dst_host_diff_srv_rate|dst_host_same_src_port_rate|dst_host_srv_diff_host_rate|dst_host_serror_rate|dst_host_srv_serror_rate|dst_host_rerror_rate|dst_host_srv_rerror_rate|label|\n",
            "+---------+---------+----+--------------+------+----+-----------------+---------+---------------+----------+------------+--------+------------------+----------+----------------+-----------------+-------------+--------------+-----+---------+-----------+---------------+-----------+---------------+-------------+-------------+------------------+--------------+------------------+----------------------+----------------------+---------------------------+---------------------------+--------------------+------------------------+--------------------+------------------------+-----+\n",
            "|      181|     5450|   0|             0|     0|   0|                0|        1|              0|         0|           0|       0|                 0|         0|               0|                0|            0|             0|    8|        8|       0.00|           0.00|       0.00|           0.00|         1.00|         0.00|              0.00|             9|                 9|                  1.00|                  0.00|                       0.11|                       0.00|                0.00|                    0.00|                0.00|                    0.00|  2.0|\n",
            "|      239|      486|   0|             0|     0|   0|                0|        1|              0|         0|           0|       0|                 0|         0|               0|                0|            0|             0|    8|        8|       0.00|           0.00|       0.00|           0.00|         1.00|         0.00|              0.00|            19|                19|                  1.00|                  0.00|                       0.05|                       0.00|                0.00|                    0.00|                0.00|                    0.00|  2.0|\n",
            "+---------+---------+----+--------------+------+----+-----------------+---------+---------------+----------+------------+--------+------------------+----------+----------------+-----------------+-------------+--------------+-----+---------+-----------+---------------+-----------+---------------+-------------+-------------+------------------+--------------+------------------+----------------------+----------------------+---------------------------+---------------------------+--------------------+------------------------+--------------------+------------------------+-----+\n",
            "only showing top 2 rows\n",
            "\n"
          ]
        }
      ],
      "source": [
        "# drop unnessary features\n",
        "exclude_cols = [\"duration\", \"protocol_type\", \"service\", \"flag\", \"connection_status\"]\n",
        "input_cols = [col for col in df.columns if col not in exclude_cols]\n",
        "df = df[input_cols]\n",
        "\n",
        "df.show(2)"
      ]
    },
    {
      "cell_type": "code",
      "execution_count": null,
      "metadata": {},
      "outputs": [
        {
          "name": "stdout",
          "output_type": "stream",
          "text": [
            "+---------+---------+----+--------------+------+----+-----------------+---------+---------------+----------+------------+--------+------------------+----------+----------------+-----------------+-------------+--------------+-----+---------+-----------+---------------+-----------+---------------+-------------+-------------+------------------+--------------+------------------+----------------------+----------------------+---------------------------+---------------------------+--------------------+------------------------+--------------------+------------------------+-----+\n",
            "|src_bytes|dst_bytes|land|wrong_fragment|urgent|host|num_failed_logins|logged_in|num_compromised|root_shell|su_attempted|num_root|num_file_creations|num_shells|num_access_files|num_outbound_cmds|is_host_login|is_guest_login|count|srv_count|serror_rate|srv_serror_rate|rerror_rate|srv_rerror_rate|same_srv_rate|diff_srv_rate|srv_diff_host_rate|dst_host_count|dst_host_srv_count|dst_host_same_srv_rate|dst_host_diff_srv_rate|dst_host_same_src_port_rate|dst_host_srv_diff_host_rate|dst_host_serror_rate|dst_host_srv_serror_rate|dst_host_rerror_rate|dst_host_srv_rerror_rate|label|\n",
            "+---------+---------+----+--------------+------+----+-----------------+---------+---------------+----------+------------+--------+------------------+----------+----------------+-----------------+-------------+--------------+-----+---------+-----------+---------------+-----------+---------------+-------------+-------------+------------------+--------------+------------------+----------------------+----------------------+---------------------------+---------------------------+--------------------+------------------------+--------------------+------------------------+-----+\n",
            "|      181|     5450|   0|             0|     0|   0|                0|        1|              0|         0|           0|       0|                 0|         0|               0|                0|            0|             0|    8|        8|       0.00|           0.00|       0.00|           0.00|         1.00|         0.00|              0.00|             9|                 9|                  1.00|                  0.00|                       0.11|                       0.00|                0.00|                    0.00|                0.00|                    0.00|  2.0|\n",
            "|      239|      486|   0|             0|     0|   0|                0|        1|              0|         0|           0|       0|                 0|         0|               0|                0|            0|             0|    8|        8|       0.00|           0.00|       0.00|           0.00|         1.00|         0.00|              0.00|            19|                19|                  1.00|                  0.00|                       0.05|                       0.00|                0.00|                    0.00|                0.00|                    0.00|  2.0|\n",
            "+---------+---------+----+--------------+------+----+-----------------+---------+---------------+----------+------------+--------+------------------+----------+----------------+-----------------+-------------+--------------+-----+---------+-----------+---------------+-----------+---------------+-------------+-------------+------------------+--------------+------------------+----------------------+----------------------+---------------------------+---------------------------+--------------------+------------------------+--------------------+------------------------+-----+\n",
            "only showing top 2 rows\n",
            "\n"
          ]
        }
      ],
      "source": [
        "# drop unnessary features\n",
        "exclude_cols = [\"duration\", \"protocol_type\", \"service\", \"flag\", \"connection_status\"]\n",
        "input_cols = [col for col in df.columns if col not in exclude_cols]\n",
        "df = df[input_cols]\n",
        "\n",
        "df.show(2)"
      ]
    },
    {
      "cell_type": "markdown",
      "metadata": {
        "id": "n0rHVpDj4Hmf"
      },
      "source": [
        "# Normalization and Standardization\n",
        "To ensure that the features are on a similar scale, which can be beneficial for various machine learning algorithms. By standardizing the features, you can mitigate the impact of variables with larger scales dominating the learning process and potentially improve the model's performance.\n",
        "\n",
        "`Normalization`: Normalization refers to scaling the values of a feature to a specific range, typically between 0 and 1. This ensures that all values are proportionally adjusted within the specified range. **MinMaxScaler** is an example of a normalization technique, as it scales the features to a predefined range.\n",
        "\n",
        "`Standardization`: Standardization involves transforming the values of a feature to have zero mean and unit variance. This technique ensures that the feature follows a standard normal distribution. **StandardScaler** is an example of a standardization technique, as it removes the mean and scales the features to have unit variance."
      ]
    },
    {
      "cell_type": "code",
      "execution_count": null,
      "metadata": {
        "id": "I5jESIhcjbju"
      },
      "outputs": [],
      "source": []
    },
    {
      "cell_type": "markdown",
      "metadata": {
        "id": "4QOPUJob3nv5"
      },
      "source": [
        "# Split Data: Training and Testing"
      ]
    },
    {
      "cell_type": "code",
      "execution_count": null,
      "metadata": {
        "id": "yNRaLHfi3maq"
      },
      "outputs": [],
      "source": []
    },
    {
      "cell_type": "markdown",
      "metadata": {
        "id": "rTPHCu_7R6Zg"
      },
      "source": [
        "# **Step 3:** Apply Naive Bayes model.\n"
      ]
    },
    {
      "cell_type": "markdown",
      "metadata": {
        "id": "FoeQ-M6qw72A"
      },
      "source": [
        "**Smoothing (laplace)**: The smoothing parameter is used to handle scenarios where a particular feature value is not present in the training data for a specific class. By default, the NaiveBayes model in PySpark applies `Laplace smoothing (add-one smoothing)` with a smoothing parameter of 1.0. However, you can adjust this parameter to control the level of smoothing. Higher smoothing values can help avoid zero probabilities for unseen features, but they can also introduce bias."
      ]
    },
    {
      "cell_type": "code",
      "execution_count": null,
      "metadata": {
        "id": "mWs1zRdjR79w"
      },
      "outputs": [],
      "source": []
    },
    {
      "cell_type": "markdown",
      "metadata": {
        "id": "fNvWtvJzSOz7"
      },
      "source": [
        "# **Step 4:** Evaluate the model."
      ]
    },
    {
      "cell_type": "markdown",
      "metadata": {
        "id": "qPxWbjQDQTxu"
      },
      "source": [
        "# Confusion Matrix"
      ]
    },
    {
      "cell_type": "code",
      "execution_count": null,
      "metadata": {
        "id": "MskcAZFxKr6Q"
      },
      "outputs": [],
      "source": []
    },
    {
      "cell_type": "markdown",
      "metadata": {
        "id": "gT5jvwPxT2LA"
      },
      "source": [
        "Please note that in multi-label classification, the TP, TN, FP, and FN metrics are generally not used since they are more relevant to binary classification. Instead, metrics such as precision, recall, F1-score, and Hamming loss provide a better understanding of the model's performance in the context of multi-label classification tasks."
      ]
    },
    {
      "cell_type": "markdown",
      "metadata": {
        "id": "OxBstWBy3yL2"
      },
      "source": [
        "## Additional Performance metrics"
      ]
    },
    {
      "cell_type": "markdown",
      "metadata": {
        "id": "nBd45_VsRlSO"
      },
      "source": [
        "**Hamming Loss:**\n",
        "- HammingLoss is a metric used for multi-label classification problems.\n",
        "- It measures the fraction of labels that are incorrectly predicted.\n",
        "- The ideal value of Hamming Loss is 0, indicating perfect prediction, while a value of 1 indicates all labels are predicted incorrectly.\n",
        "- Lower values of Hamming Loss indicate better model performance.\n",
        "\n",
        "![Hamming.jpg](data:image/jpeg;base64,iVBORw0KGgoAAAANSUhEUgAABJ0AAACKCAIAAACPTqwgAAAAAXNSR0IArs4c6QAAAARnQU1BAACxjwv8YQUAAAAJcEhZcwAAJOgAACToAYJjBRwAAEDHSURBVHhe7Z3NSxvd+/9//4oLIV0lq1l8wNJNcKEIKoUq3KDcC6WLSBfBwl0UKikYXGThQgi4CGQhBIoESilICEjMwpCFEiiSLxILQgQhgjCLQH9zHuck85DJk4mZ94tDqZNkksyZmVzvcz39v78AAAAAAKBfnm7Oi4XzbOpbdHkmNDX9ho3YJX8YAACGCnQdAAAAAED/lGNEyIW0haXN3cTWInQdAOBFga4DAAAAABgsDyf/QteNDP22XCjf6fwvAPwCdB0AAAAAwGCBrhsRzYfC4VrQOPL/Zup8EwB+AboOAAAAAGCwQNe9HPqfcuG8mMsc73ycI4qODeg64D+g6wAAAAAABgt03ctRz2yQQ63Nza9FD3bp/6HrgC+BrgMAAAAmkEb5eJ1UZQxpH/ZOfvNUo/r58dYa92kEZ9e20uVGkz0CBgt03Yi4jEPXAd8CXQcAAABMHJWj8HRoPVUpHa8QGze4cfq7mopoU9paLFO8uX+qXR6tB4n5G06UUV5iCEDXjQjoOuBjoOsAAACACePpNPJm6n26ZvxXmrnTbwIb6Ztn9gRC4RvbvpeDsBs80HUjAroO+BjoOgAAAGCyeMxuTr/ZzD4Z/238iHIzdzZeUkSdQWmfCY+Nk3u+Zbyh3eGCM2ESXBov8Y1jC3TdiICuAz4Gug4AAACYKKiWi5w+kv+X9g0VZJi54dhlm1dOCo+N09dj/zbO42/JZ55kXYfEyL6ArgM+BroOAAAAmFQqh++ojRuMl9pkgJ7fYebvYvqGb3oN3GfWycceoK57yv3HpG/3Qzty/hi96jokRvYJdB3wMdB1AAAAwITCVdCbqd18mwbQ83vM/H17VOGbXgWD13XGsXhqPPY0WuNaW+lN1yExsm+g64CPga4DAAAAJhOZXLeeeeCbOHpul2mD8OGrknVD0XVDoSdd10diJOvhFpwlsZqW6XaAH0xNmwn1roLYTrS5sDYeUgq6DvgY6DoAAABgIpHibSlV5Zs4VD+Qh15XEKbBROu6fhMjm3cp+pBXXUeppWkj7/5U0EB2Mhig64CPga4DAAAAJhKZXJdoU0GNbITZvsvpO/J3sxwLKgGZz9XT/Uh4dm5+cSk8M7P+cS1o6ij9JpvYWlsyHpqfndEW1raSxbrM3KOiKzBjPKQZVnXtNh/7uLb6z1wwODP/MX76W//7fJc7jCx/WAlrIW0hEstWmWShDihjy5IWfLPzvXyyH5n/sDKvkV1tHir7N7DVdc2HQjK6OjsXXpjRZls/ktt3GSq95tdxekyMZK68rnQdF0J9qqAedlI9nmdfpOsR2sw6f0HoOuBjoOsAAMAfNJ+u09H5tdfmnwE9U01zu7k9uU5KDu4a0s/3AmZA5sPpBonKqzE50bw7Mf4UWog+03jhSuqW/Nm4iIeNP1sDBesZKhqDWnBhL0cta/2CFrEMGnpvbidPLfLnYozoFsUZpZcPmJLRIqkrEohIztjUBnk7df9WXfdcjs0az+HvxT5SYIN9frfvMmT603X8a3adGPmadJ3xXdryFT0PvU3rqkDXAR8DXQcAAJNPo5o/XNOouRMvuJhEYIKof6ehcdNvtn5QmWRCG8EZ458Mqc/RrBzOvgl8+tVgD9azRFF8K7K/CBeGoSx0XTlBhFxw45RndtE6H9Lvx+CGdfjwim+Q7/hWSeZjCkQRJ1wItWiSZjX1nmwMfC1yedOu655+fiLxiiwnjWJsMZ4QImrK9bsMmb50Xc+Jka9L1w0F6DrgY6DrAABgQnl+qlfLuUxi6z1TdGxA1/kFUTXR2nZcL+2HyUOLx6XbcjKitTjE9OIOKaOvre6mTy+r9Yb+t6k3jH8lz0/qX0xITO2X+d8G3LBWzzSu62IX/G8DywvtdJ0oBzI1Hf3JdGebruM+ybWTP+xvQu1kzXgJUYwdv8uA0WvlYuGcjNNkdJ52IzBGcC1+csa331AHaSd6T4yEroOuA34Gug4AACYM01FgN6DrfIJeSsxNTYfmv+W5I07luXqyu0KbXIe0T+nr1mc0zuNSkxgjMLORLCsev6Zeu8qmdiPzi3NBVgXReJqdrlPcYkLXKZ4rj7pO7C10wJ7YquuEX4vk5pGUP3UkyQs6fJcBQ79CcKb9k7AxS5ZXvPnuek2MtNN1+u/sQXSNfoY5bWZpNXpcaNP57Aj/c5w7O95aW1n+sKQFtfDH+Gml/UA1KtnYx6XwLMlU5AmTEouuq18cb32YCxvzsjCjvY+sL4S6U5s9A10HfAx0HQAATBjcPg7OLs1/3DtI52/uRaEFMqDrgAca1ULmOBZd47Jteo5H/dXzsYWQoaOWE3nmenLx172ArhOxplafpILTdxlbekyMJLTrOu6xFDqwUSS5iNNzLTU2hRAKf83zejM8EdFQYmZ4bS2zESAN02mpG/4EZT+tuo7G64ZjF/xR/ZIkPULXATBsoOsAAGDiEflUZEDXAVd+p1fV4jrNh9zXOePMCSQMXXXHst2WlehAU549iz7dA9V1N6klujfRg7stDvM2vUz+dOjC5/ZdxpceEyMpFl1XPiBCLrT+nW/hHj/W+pwh5qvlzsADPnmBnL+VI5JX+e7oWj6nckRq4Ujt1KrrSglD9anBsXcn/0DXATB0oOsAAGDiga4DniFmsVryhEspEuzHNZUqz0Qm2H6ZKAom0vrTdasnSgkWQ7rQiMSwDDVs03WibopakcX4VIWvIeKhcvkuY0yPiZGUdl1n0JZSaJ0dm/kyqKYWya7osRKzrFagaRbpnIq8R7YTIaVq6RXjz8BC9CCTv76l5SufXYtY9sljlaUvFs4yMV4gitRf3Upm+fbynXIIAJhYoOsAAGDiga4DnmEG+my8INxAtOX0CnXR0bYBhq3/rdigZ1H9bG8+SLZMfc6efn4TTlI/3jkrxL9nnmnNIosE3jnnGwwKX+kJaUoFEWQYXDlkKXDCvRaMZHmjAoPb9Grbzp/LByQ0VNtMV9inqmW/hGcTJcOQd/suY0vviZEGNrrO2OOfyml6b3NxKaxpYZrm50HXienYyNZlvp9G2gC2ji8/mZJr1XV/9eqJITvJbtnQlneVSRw49N1J5Hn7xyNDC8J3B/wCdB0AAEw80HXAM4aJPLuXysQ3Sdtx0nGOVMiQJTRYB/CFmQA18UnTcP3uJ1EahuGeufk/5kzTwoY9zfQD8+Nxm3uOCpJ4iWkAugeW80Z1iPDXJbKpXVLnQ/Qu52pNnMakRArPlJPGevPpOhvfND6VsTE4Y3wSLnjcv8sk0q7rDG38bck4LIEPiVyVfnF28LvTdeUDVnvGdK5aYDtplU/1q2wqscfnxfgMrSGjAICBA10HAAATD3QdGH+4kHihLKwJpU3XsXjIqffpG3nVSxXX1BuPNDjRXtfxOMx54twkca3kOS7CrEXXPeW+Lu2cmfpZ/51eJ8pw4xReMwCGCXQdAABMPNB1YPyBrhsArbpO+NwUP5ueZ1GyzGtKtZzQdS13BlaQJhj9yRrusbopog4nx3hOcK/AEtdadB1930hWFYH0g4lkPADAcICuAwCAiQe6Dow/pGSicYq21E0BXcKyFldZVwNaWpPEQL4TGYb3+Z2FEI2K/HL6/cvU7DEpFsp1ndLnoFFJtbUx+Pu39j0SJKVQ4rk/dGOjfPhBk2U2eVLlP2maRMf0ZGhdTmWjGHv3JtDetgEAMGCg6wAAYOKBrgNjDfMyqcNb/25gUs/Q7gja3LzIZ2PHsH5+vLVGW40vLs1/PCrc67Ufe8vam+D7vRPWWJzoupXUb5qj+GFl2al9ucF9MSnaAAZnI4fnVNTxCqVk/6RCifH//dzJv6H1o0wyuqLNzM0vzoVn17aSRS4aAQBDA7oOAAAmHug6AAAAYMKBrgMAgIkHug4AAACYcKDrAABg4oGuAwAAACYc6DoAAJh4oOsAAACACQe6DgAAJh7oOgAAAGDCga4DAICJB7oODJ36d1qPcazHEmmy7TfqWVqvcqwH7X4OAOgX6DoAAJh4oOvA0OF19sd7aAmzQ7df4H0Ixnv8L1HCfQmAvoGuAwCAiQe6Dgyf53JsVp5mLWM5Wa4/PjUGOR5uLouFc2NkU4nEwbfo6uIS66vWaXzJPfPP6xv00v6c5TjQ8eG4VG87sP2OerVM56V4mk4cJOJba0vzs1r7+9qN7TM0LQegX6DrAABg4oGuAy+BXk6EzTNNHeHDK/6c4aI/1a4MRbG36awl/Bjyp5cPHCT328MKf85QaeqN20ohm975OBe0fAY+FtM3/NkAgB6BrgMAgIkHug68EDepFdNSV8e7eOGFHWWP1UJ6b9nqxPNnyF81vdx2HPgIxy5e1lHWfLo5T++8twrvmQP/BckCMFig6wAAYOKBrgMvRfPuZCOkGOvm0L4WRxBp13y6zsZXW9XdTt6PIX+1zEZAOQjm+N/eS0tuSqOSja21qrtdX04MAIMDug4AACYe6Drwgtxn14PyfGsZ65kH/pwXpvmQ+7ZkqpqP2Tp/wFc8nDpI7ql/M6M6IPWz+Lx5tkROfTkxAAwK6DoAAJh4oOvAi6JfxN+ap5w6Nk7+8Oe8PPW8lBC+bHhg8FyMvZNz0TLWT+74c16eej62wAUnGh4A0A/QdQAAMPFA14EXxrkG4+LxzejOQP13mvkS/djwgKJfxh1q2ywlf/PnjIDnaor5EtHwAIA+gK4DQ6b5kNtfm//v14TFVujl49XFaOo3cgHA2PP8VL88UkomLMXydw2cuWDYNCuHTjUYv40i0U4ghM1ezq9XwfWRg+R++do2KqJPxiRnP06oRQSGQW92JnQdGCZ8BW4udvHEt7wKGsXYWrzk/vPGawOEd85GlC4CgDOl/VZzzX18K/KXATBY/mQcEu1evAZjK0zYbH73693bubbNaCX338oRkdyTmv3Yq0XUuIiv7pf9ugrhY3qyM3vUdXyxR5ubX1xyHDPsrhH92eCvAv6Cn5GhUUbt90A9v8PWmN/FC+6nLl9cHLGBAoAVouvc789ikFbO0HVgaDjWYBxtf3DmS3x3dO3bkD9HyT3i/uDUvHypbocvSa8WUT2/x+JmDcnd8Ovpep1cCswe+7G9Yfd2Zm+67uF0w7wFdBizPr5v+pqHn5+J+A/vv6o7kRR1bLzby7kvG/KfRkg7AACw5ennJ7bIaxn/Zmqj+3VoXKYPEolTH8fSN35EHST3KGvb/H0spxKJg2x1siamR4tIijo23u7m6z60qO8z69NvArt5n8raLu3MvuMwm3ruq3nOTQU3UlcPjUfYuH6Hr9G+LlUvRF3gw1Hptnz4gdoi76Knrr9w9e/0m46o/w8AAIw7Im/KOl5ZNMek4VzbZqSSezypn8VXF/dyPQWg9WYRCVEXWj4q1y6Plql/9e2nrM+mRs/tGsbYyiiL+oyaruzM/vPrHk7+Ve4Fn9FTEtDVBXI+vCov1p9f29TyCH/O3rBP3bxjC2ydpJ24BCJZRBwDAIAV5xqMkxhx94pwltxvDyv8OeC+nPqPNT9c68WT2ZNFVPvxhV4yc9vZqs6EnLBS/CXtaMqlf511nC7szL51nZ7fobcANjazr6o8BhgK5vn3agIG+O0yNJ9ojZFoPpWOVsjdPOgal8JSvUedlgAAAGPLTWpFmgotY7Q1GEE1rRTLVYe/8wv0p8ZtpZBN72zMUEXHRg+6rheLiIu64NLBeatR3eCRRIENnzhUWRT3Cpoaercz+9Z1lSOl9+hIm5+A8UDP79GbYPjgFTUHus2sB7XNjFgVa6WWiQQNXecW7f90GqGXgJ+z8AEAwAXnGoza15HWYPQ9jrVtfJlf4FpMuGtd15tFVDvZCGgRe6vDuI4imqHreGDRRKNfxg2JMeIareOCVzuzX11X/75hnvEwasHfu9R7ejK8T4+w82wP6I9uruaG66MG+jm7d8NlDQAADtxnnWowrmfQMGaEPJw6SO6pfzN+67TGdF1gZml+LRpLZkq3ldQ/8oB0q+t6toj0xiP/nw3Np4Yvsj7Y0YucotkfxaOd2aeu03O77FynA8l1vsc87fzWF6hZOXxHr4LFtB9L8QIAgAf0C7IAb5oN5hhpDUbwXIyxnzDL8H1tG7WKRHe6zr8W0SBgrs4w8jwl3uzMPnWdeA86sN7me6TO9+P6yvVhmH73mdcUgAoAAC+Kcw3GxePXFeUxYTjXtvF5ik3Pus7XFlG/sA6TwSgOnYoXO7M/Xfcns8rPdWMguc73NH5tsZPBnyWSL+NsZU5LQNgBAIADevnAqQYjEmlGiV5KOEhuX9e26VXX+dwi6o9GNmIcuuVj1EtpxYOd2Zeua/yIinPdUNXxAk5cfyPPh3l/XoqyNuz/jq75JgAAABZ45Xfr8HcNxpHTvFM0TMvwseTuUdf53SLqB71MooKDezlUym3Dg53Zl64rJZREWzTv8jtmsuXOOd/kM+5OeHb1HHzXAADggmMNxukvMOZGiSG5HWrb+LWRT2+6DhZR79TSpCeK7xM7belsZ/aj66qpRX7WGmM1jQnwOTLZspsFrUpm571GX6Ut72auXdcGGtVi7qxcG+BPfqNysrsSpCdw8P3eScW1lOVjtXCWL926/bDJlQ5UxQQAAFdYZyr2q9E6ELc2Uho/og6S25+1bXrTda/QIhoTnvM7wTdT7xKlId0Emg+Fww2NLl4EZjYOz10rg+h312f5XGWMqod0tDP70HUydJiM8OEV3wx8yr2Mq/EYkavfpOh6rTY3v7jErjGXIP76d7G4++nXQDzD+u80XZXUwotL8zPsOnEOATLLc0d/Or99PSPafuwjxQ4AAFx5LsccEu2wVD9SnGvb+FFy96TrXptFND5cHxnnXmgrOxwpVc/vkHtOSFtYmp9lEtr5bmNmAo9RVc6OdmYfuu4izndNBgInfM+lOB/+ydT4JjfYimD4a75GlZTsBBq2j0RXnMNfi3xbPzz+2jLum7N7uT/07eWHnzu2rR57k1riT5jec7tHd3kQAADAzzjXYMRi8UhxltxvfVd3vidd97osovGB2Wbvh1Mal9fY3EhdUU+Xqb3tJYye3+MHeXotdcs3jp5Op1bvuu76iFXbpAPJdb7HXELw0saQ+dmVS1fexey7oJqX30Daaei53dDU9IoZnSyvk+mNk3u+TUG5rbs3aa2m5/l++igj1KymPi7NLw5+bH3HEjgAYLy4SZFcGpvh6xqMY0A1vdw2I3z4rbZNL7ruVVlEQ6MHY4YFTwVn2re3jt6MGXqrCe2cifBF5TDGLvk2ldK+CBQPxocVFNoDnezMnnWdeqIPsNpPS0M8y+A9QOrfxQVjN9BGbySYRXS+dV49oldXWOm/oSw+2a0RKKsmg1jEpT9Xb5UqsYo7LnL6yDeayAJEHZcqzduE3X48ohdjGn+7wY7wftlXv8YAgFdA8+5kQ/x8tA7tK9oejBLH2jb/2/OT5O5F170mi2h4jJUxw8RzJFsXWqjTYewwCyOjk53Zq65rSa4L2Srdnni6OS8WjJGNy4WiwIf4yRndeHnHJlL/UyZ/nucPzYttbjudpxuLNz3b06AP5PJS5wo6zXKMLE2lTT/7rbkuaJsJaq6auIdBeoPubSVlrkXcpd7zd7e/ekXDEGN0KGzVLMb4M7tIlQYAAF9jJjC3D9SgGikPpw6Se7ws3eHSk657PRbR+ECbbod2PDg4e4B6UNWd64Wv4jC+O7q2HkbFmzdehSE72Zm96jrF0u3LNeGE0vHcZY4L38RncI+Om2Ceq6lPM4FpbflotK4Y4+7P52K1Y747PXnURNUO7jJ11aT/iWb3UDX523Rq299DlY9nG6WpUhbXG1odAACAV/SL+Ft+82wb/qzBODY8F0knsfZJIcM3tW160HVjYBENyDis5+PL2pvATPS0g/HTN4/ZTeMbqfp2kNBJVPtsd4rDUrx5zr6r5kNufyU4HdI+ZfsxTfXf6a2Z0JS2cuhprjrYmT3qOuW0ezP1T9prfSS9fLi2tJnpfC9QDqiLJW2e3G+P/JbIy2FdPsgIJkp820gwb3wd72J6JXuQOM6ZN0cl+NY2El1ZNRlAxK9eOU0kkmfmh1QyRW1zZ5V7+mLHXF55vb2JXfBNEwM/CBgYGKMb/GqcQFCDcUxxrm3jE8ndi64buUU0GONQL5LYRbqf9e/DTXEaqrPOmJFcMnGQqci9y67xU9NLtupIcYo6FobUz/eEi2uDpYn1hBkyFlDyg5zpYGf2puvMpQhjeC+OxNSal9aWpqn9zrGluhoLOnk2tEfEpRta96CWh0kXd7F2Kkdimdb+km5ZNRn8RJv30MCu/dvLRZ1A50B56DoMDIwhDn41TiSsWp3lKxtjGQ1yRwotPd8+KWS8T/ug8vNwdV07A7KIBmMcSl0XjP4caorTcJ11Vp5+fmLH0OlNW5yiTutKUtf1V7xA6ro5b3JqGLpOsXSN4UWnUdhx9NIRQbmKbE1tRjkhhLJbS7EJp6nXroql6sgzEHq/i5kaPrhne26Y+cfDiPjtdA9VTjMvmR6TrOsAAGC4/MnYJNrNxgu+/YkfE+xr28zFLvyQ/fiium5gFtGgjMPHaum8wrovDI8hO+ssKG6hZaXWgkk9K52i7r6rRrVcuOrbk6nfXZ+XPRcHGYauM01hY3TMOBIwOe6l5KuiG10uidrJGv8Mi2nbnmPgBen5LtYp5EBdNfEe8euZTkGYasixlwYm0HUAANA77TUYZ7+cjk/nKD/TLrnntrN9OIJeEy+p60ZsEY0G3rPuxZx1nYMwFadop2p5I2AIuq4lua5zxhGH9ajx5NxTXChK4dc2TC+qt4BUMFzM6k9d3cWUmiX254ayrDKEdqjKLdL+Hqo4620rJrUjr7dx6mIJAACvBtZflN5IgxsnuJGODYaxKyR3yDdFUwx60HWv1CIaDTTK9wWddeQOw4+hk4RRVvyHECbWLx3szB50nWLpGsNjq3vWOMLBrdyG6Yib3ss5TnT5QCwdveDZABwx22judyGzlVaE9hePumriOeLXM4qr3T7GUg059uJqNnfo9e5vA/qSAwB8y3M5xrPsfBLm91owC9uE94uNyfAUeaIvXfeaLKKB482Y0agxH5xt3+4y+jNmTPngoI2VFX/PvquXo5Od2b2uMzsnkOGtt4xeSpDbgX1dinYU3fhPxjEl12yE0DkQtFHJHkRX+KnzPpq8ePjbfLq5bI881n9nthfIMmFwNnJoPIdivDb2kZ92gZmlzf3sjZCm9ctMy0OHRdnu0OS5evLfElni0ubMJzQqp/sRs63+x/jpb3Fg7ssnLQ8dFey+XaOc3nqvsY8ay1bbj2rz7nR3JdjpTXMd10GNlySiy+wl2spOhrxR3SFim/YGoTPioQunxOxUMZJVk4u42Lm9L14NOfZ0qpuFqrzkkTqAvuQAAH9i5nH5yiP0CpDxsYENv5Un7UXXjcoi6mAceuS+ePhxjtiQ01rYsEJ7rvQ4nsaM0ketR6fobT62MWNcDoGZla2kneXvhUblZJcJk5D2Ye9EqoCOdLIzu9d1Lcl1DtZwK6JIrkc3q6mkXQIszUULl4KZBobCobIqsPAldXnXeLzLfTP+1DSmVabjZvlX6lEMf83f5FkXnbmDS/rk4NJWMnt9+9S4ze+wRcTZo+vm3c/Pc1PkofzNvflQYKOthQWNJ5ndy1XzrANMOFGu5ePzwdD8p+PTK/p5vrIFMFIGp/bjS3iaPJSrPpgPBTfa2obQ46ltJsu18jF12Yd2ztUDawhj9qa/WCGj9je9r5467FlBv8l8mTdeHlzaTpdrj3eltPHZ3gQ1cr+wrehqzkgXLeaU26W9N+zu5B/xBJdVk+enRk8iyrzzOlweiuvY06luFlnxFLQJAABA4luP0LhjtjrwYw2bXnTdSCyiTsahJ+hOQvP/pUu3d6dRaioTo5c/OmCYRHnBzDrCZacFfXPF3074kUTT0Py37M3tr236nF6q9dJs1eDaUa56VzqklUu9VxztZGd2resUS9f4HPFSp8nQr46WmU5TGwK6oIQXexouayHP1RRb+ZuNl0yrXblyFH8gCfAN7hWMGVR6gxB1pFyR4ruHgpohnFrubuKhpZbKOpUj4/Kg15V6X5jbySvFc8TKQUDTAm1hJ+KheXWnTH+yfn1y1UF19F8Zwtvrm7bs2UQvJaiPsSW3QS98EwtFtvMuBf/csecyNsontJ1HZdUkYB/MID4qEdVp6Ur1iKLrbE9OxXXs4VQ3MG/lkSzqtwEAgHekRwiibryQFVN8WphUNaU8Z1i8vEXU0Tj0Ap1r6Q0TNpJLqYt+0Ev7hlUZjl1YtNNQMXWd/WwqTlFLPGCzmnr/JvDpF7kOZPRiF9KdQkPNTb+3+DweOwR2tDO71XWtyXXuGUfNh8LhGvXkkuGh9xdBKVOzcXhWLJzbjmNSWpMO5wNB3VbkOStt4kVa82Y38yapQcSvE3k1GqqmdcpNGWAR1vIhtS09qdzK9YCscWTpJWLKyNDWj9ZIP/mQcmWSniRMf9p+EfamXMR7eFO7a77+nf+4rmdaj205obFXsXO6DTMVzXsIotII0e70UAuj2brLlaaQZHSbRqzEstvpOrX8l5fkOqWk0AD6pwMAgG+QHiH/hfmNNzLd0b81bHrSdS9uEXU0Dj1gfICQ6j0TPRWGo+uYIercHW5YmM2r7GbTzO+1cYpSm3OFVyu5jPP92JrEjtDENKXaiDREPeq6jnZmN7ru+al+dWz6sqbfLNvtVG881avl02R0uSWsNuzxtFDCi527F5haqNU/pmAoWnbEA1+Lbae/7CJvVgglWi7EJJm8HtpVjfnZbAJKxT7VAEVFK8oPbJX1wuFrk3woThplsmk2J3+mbGUoTjICeVMub1zeVOzZJtKVVbgxHrV4qKTkdqjvJO99c55CFimideabqQ/t7U3NwA8y7LMob5I8aEcMbz5hyW16mb9QPYYU9dq2OxnskEWWhtE/HQAAJhS/e4TGFTPd0a81bPSnxu/sluw9MD2zma7UPem0F7aIOhqHHjCjvRiyfMgwekTrha/GqfXizjoD2Wzd2sOgtU+jxSlKbTyuTdjnN57WZbArbfmmhG5KuzHszTHR2c7sqOueTiNsF/2NdwkvYWyKi8lbcp1jdJw8ra3VMt3PVOmQtF428rNZXygectCiUhFZ5YF0+LY768yHHLQruQLpmzq4Yl3eVMp9q0ClBWfJQ/YnNHnI8eST38VbNR0K61tCdxs7F69qPl1nSDof2xsZDsl1jV9fxLoLG13exUyn7pu338zIn0Yls62IOq/JdeYZ0kfRFAAA8BVS1KGrwVjh1xo2ZmSWl+Fc3u/lLSJOJ+PQkXqlcFk1Q6Bl2KdLCcOeYavqkWyPRUf6Qxq6U/8qPQDviwcfTFFnDLeKo1Sekad1W0zh+a50XlG+tbQbPbolOtuZHXVd+XAQ1Ww86lDFEefWvUA63By9n2ZxF4sGc/FiGch4WatCk/HK1heKnEAnl7dw9FkVmsyCdVh9MR5yKAwjDoLjUoF4gvVNXZStPGOsx18+5Nx8Qh52b1GLDP0yQQq00BeyQrdhesoFF5bEJDoHWDbvfrJyo4YQDZLv27Wj7Ll8QIugkqHNkRK6s7Q2jLY0Lw6F1+tWniFIrgMAAC8oYX6pimfzFwwdWcMmtJ6q+Crdkei64Iwsqe82ZkJumuflLSJKR+PQKyKarMtgTi/otEfl3OEV//ulad6dRlgVQOPOQ+d6gdS3nAoaFiA/yO412KX476Voioq0Gz0Gc3qwM7uumzJU1OQ6a8VFgZQljg0fzeIuFg0m38K+ZIi4Dq3eQpcXilUZJ/UqFFEwYZbfZMjlEKuMFJ/E/oqSfmRHySHf1OLSlJVprKeRPGOskk++qr3mpwJNU6Qv7zIesq50d5jWwmvR5PmdfiFil91XTQyenxqPT8bzjWf2EgDZfChl4pvsqiZ30rWtZLH2XIyJe6vHm7K8zrtYnAMAAN+CML9xBTVsBsBILKLOxqFXpL/RxcvSI1XirAt8Go2zTqDXzo631lg7B97G7PrxzsyldHOKypDAfvtvdZAkFrzYmeOl60xHnKfkOsdUTtkR0iqKxFvYazCXAEWZXNf+pvLSdfrMUhFZM+hkcp1FRpLyJ+Qh+yDMRjbCXui4VOD8pmLPdteqLBNkWYLyePKJG8FM/1m28nN6vHJo7qnHgEkPyEgGrzpNRCx7a74PAAD+RvEIoVXdOIEaNoPi5S2izsahV2R+oIuXpTdG7axzQUZXujtFhX1ord/RLdK56u0M8WRnjpWuMx1xNiVcBYpPzzEgUOq6TsGENJvOdFvJYkQuAYrtbypLMvKrqFmOBVv0pKx145xBZ/mccsXlPc+dJXNvBmTK601c3qQOSotSlUepvcCOVKEtdZPE95W6rr0Wk5mp2eHkk6q7Y/lT4iU7Pkgcn5TtSpKYUeZv3jpnWqrQy2PP+6pY/TKTTCSSmbLdipGZd+c1NVTcDjx+WgAA8DFmixp4hMYKMw4QNWz656Utos7GoVdkPU8XL0tvkAZgpFLgSK76RjWfSiQO0vmanS4y8+6MA+isZk3/EJOmdJatFr4HpOpxzm9S8WZnjpOuq2eFI87N7SsOqEOCHEVKKbXrgIF+wXqOi2BCGgZplhWR57E1YNoxdlHWleEJclTmqVeRVETWgqqOeW5yxYV/NirzTK0oqzhyXxwty9PSOFK+qcXdJyphiqUI6k2WX0rGhbbparPif8eTT9YIcn2mXj6UWW02PkmzOy1ZlvDy08L0qtfENr10yE0KY1g9kErhqdDOmadrVZSxcrsXAAAAMDDD/D5n4REaI8zCpF9OUcNmALysReTBOBTdiZe2f9kJSImsmu7sZekJtmi+MrDQqm6oZyOy9ZpNAJ3S2sq22j9H+l2E4qUdJlqan9W+szfSVo8rbiaze70PCx7tzDHSdbqsculQ1J4i/WauqZxC1KqlINVsVKZbqHxSPNqiqYV1zzKk1VJbstxSZ0VtWcgpH7A3tZY/cZ5R4W/kl/dNqvWkEV41rn5JpHJb6wXHN5VfhOWhNX5EA9NzigoVMlX9SI2iWfHfmpJnRXwvl4hNZa6NIdY8BIqs8pp0Yeww0H4QnDEby5DR7m1XOhx4XUgW13lPy2IAAOAjEOY3pqBV3TB4SYuoo3GouE+c68kTXJKS+kI46wa6U4+YIYFktLkBlA4HHe5LbRNKe4Mtt0yusMDJcJEz5ry75zdxPNuZI9d1eu2SthrPprfNAqMrW+ks7T9e5ce9XqF/ZlP/rUg3y9uNxAltXH5tp1z5cmBwI3X10Liv5kiH9NDyUeaQJTv+m775TaQ5781PEecxb2Sn4Oz+IusoNJZy8bh0X0lFtKnZeEl17wpHn3XNw2VGjcuY+hWXkuWH67Sh++dil8pV0Pi1TWd3+8dD7fJ4UzPkR7nlIhHlT2wWWsQZuf3j7iYbnw9aWpbzFYvQ+lG59nhXysRXaS0mNjydfEyIkuc7lmGV8tIY4a95NRJSvzpa5pfE3M6Z63qSpFk5NH6NvPbSUBS1MWb3cur581w5FOdh2wdzgX/fd4haAQAAV0yP0IhvmHole5BInLqup/uI8alho1dOE4mD7ORMzMtZRB2NQ+lrIsNq0EqGlFzHPAcbXnu7DxjhhjGGIQ1+KwemeffzM/eIBjbS1x3uS9UkXf6YT5br1WxsIWTRgWajNWO4COOukuu825mj1nV1M0kxMCNKx4rKhGZ2Ge95bwwtzJ4jar+SSDmHWq71iyNR5DCkbcRPWQ3lRjkVXaEe0tD8f7/Uyah/J1IwuGb22hfQ9vDG87/lbY7nc/Vkl+9Q+2Q5Ie6z5DdMW7NeP3o5QdYtFuI5xXsr0G8ye6yxe2Amaq3+rF8db9Jy/IGZlZ2MpQax85saGIdlndVZ0lZitreJ+2IyukYPb0j7EE2eVU4/k0/iXPDTAvVbGi9523ZPkfw+putPKwcXd7r88M2HUlJ4ybWI55rXLETBa8AkhV+Wy4liTfl8dXofpN9U20x7ruzMjrbabQYAAICVP1l+jx29R4hZrug1SjHLvo++hg0TOR2KYL8uXtAi6mAckiekt9aW5j+QrgkWH4ZgSMl1tNzI6GoQPP38TExf7VPmRjHUG1SbkS9LjXxPq/l/fu18oOJCm9s8LNq85E8+9nFpfm3FmFZrB2lBN8l13diZY1U3BYwn0qfsLbOTwRdlwy2eRgWZX8E6tBhD4++irR62yC132H66zryXa8asZ50xeE1hQ9gfFf54fnuxxonUfwAAcGOcWtWxZPsRxYONG0ph0pG3qnsuxt4ZZ8jElZV+KYvIKySUzHmlXibXDVKD0ZWUYHSUNQjMW5DoT8j6FRvfdOHLydWgb0pUHjvWU5GBYy7Nwxhd2pnQdaATjjVjOsCDwt/FCw436EY1LxyDxiBNWg4yZdsiRS7UvkfCkZ6SNBrVXDK6Kq5q0rYukSnddnf7ZPdiZIkAAIAbY9Wqjpt3oV76nU4cUlGMweokV5iBjtUjXyEvYxF5hJZMd1ypH0rnOtqT2a0eycvQ2q+YtK3bTeeqD6abdICQr+wY7OqxeZhBt3YmdB0Q0DK7qbNq2529vThnN9Tze+RG9u9kyh52m/YQjQ0AAH5G8QiNvFWdVJjeU7InF1mTYxxWJ2snTGGG++/2Np6MjUVE89yUwiF6vXpjLmrL5Dprx68+eCynEpnrCXPDukJaDqrd4Z/vbhQBaTZLcM1v6sHOhK4DjIdTvpja6jUWceFtVVy907ggZUjf/meXmviaYemRwUjmZuABEgCMGlamGY5oMAjGqVWdUhnLre+wPxinVnX69ZGoiqeawhPHOFhE1HqRlSnMtk+8CTOpokn+RJRyX9CMONkdXrZY4K3MaRVNcra/t1b0MOnNzoSuAxSz+q1ah0Yusmqb3/tYZH1+ajxO3P2hqTcen4biu391NO9y+xESPRKcWY4eF9qq+t6XTxLR1cU5elPTwouRnXRezVoG44dcr7V23eyJ5lMpHV0mKaxa+KMoYSVpVHPpvU2eTxLSFmhEtHNtaPC6GJ8wv0Yls82ya8hYGkkHrTFCLUza06LtwGhUTkQ1QmPMjzxUb9iM1iKinavMdlyyazELCGzepdjNv620O+gKFhRgdg40O7SRvnnNp8I3Guka7FQatCc7E7oOUGT127lEqW7cdJ7q1fzhGs09Cy7F8l1HYAK/8Fw+WAgZJ8nWtz3REiMcu6A/Ws2H3De2EEhSBWKJPRnUPjW9kVSrDIPxQnZ2Udp79gwvtaet7sa3RO9dEYyn35A+LsYWQ85FdhLxrTWm/40R9trmBIwx4xLmp98VSK8jdmrR4bpMPvmMSau6pl47P1J7KU1Nr3TKNgJ9Uf++EVxImJpN2n7/+3Jazh9Qbzap0z7C6iavH+Jn0yKnpmaTnQ9Wkvliiq1iaJGWXguDA7oOCOrlk/2I2WQiODNP03Y99nADvoS1AJljfVRlHjApjvxcTZHI3vZaXqKTz4QH27x2SvvsRyhe6HuOaP+Y0FaWijSaOk/3vJd7fsh9NU6e0Px/mWtFPer5PSH+B6EqwQgZh1Z1j9Xc4YYoLWiO0af5jZBxqGHTfLo5Ey2X1DGh2fjjjGyNQNbXPkQPsqOuiTqRyNYIpEpfZCdt1x1hQEDXAQB6hRbqNaPwL+Pi53nm7bvQVHDlsGwxGkTTfOM5TA2CEUNbigU+JArKAu1NaonM0eKx6dNoPlCPR2g9041BrJdJ1XLpG5GVnaffvH0XNszK7axlb82i7B67mX0Ro1OH63gISFE3Co+Qfl8tZBJbwpCyjMgoi62PFlPUjaKGzfPDzXnmILpiVdpsbH6Hlx6AvoCuAwD0CLX+lVrhpq4zhsNKsGLZr/psyZw5wVh7IpKO+G9mHGzLUkIumZsqi7UGnvonU2N/32a3RQjl1HS8xDZ6QM/vGS8xzUdl9p3NyrLUdVO25c7ZacY6T5Jl5o2THpPxZBqhFqbZfT2U/HVnPGf8JXiZMD+Sp0RG7apYOC/mMscH32Qqr+tQKgH6jBcpTEqTgsi4rRjzUjjLJEmINb0E1FmwGXDRA9Av0HUAgN6ophYNu80M1audrMlf6PB+2d4Jolj2Azejx5zG72Ihm94W5fjGxMrXK8dqfsvbT1kSB3VBtROVVbXsF5YiRYe2mqx4dm+xPD0lNZztlg7nhCtT1wX27eqdP1YL59nUf6J6Xu+6Tq+VDTGQ2BS1NAZ+Qo7njA8d0yM0niM0yK5crwpZw2Y8BwowAtA/0HUAgJ5gCu2z/CV++vlJ/EK/c06nMX16odgl3+YvZCTq+Fj5zafrzN6yVHezX07TxM8W+Jo+/Y+XwDbma/6/dOlPN3ZXsxwLtgRzyna3hhhLOblxvCr/u5N/+K561XUc5lTs9HZ9MIYzPjyaLG2STc1YDmUpylfw5mnjO9AmHoABAF0HAOiJ+3wykTi5EoY+M+LpL7S9m4XCE7fI8GvIjdQt42blNx9K6S+8n1XLCGkbR4WuFB1Dr5wmEskzGe4l4x7dvrtUWaRhq1sGptxbv7pOrjUMS9eN7YwPHhnmN77jbWJCm167IguTju9Am3gABgF0HQBgEFTT8+IXevvMSQO0WPY+rXs25lZ+86GwL2qWGuN9PFcdUPESPb8jduvSoqq0L0L4OvhVoOvGjsavL+Mc5keH+2LBhNL4te1Qp2R8BtrEAzAQoOsAAAOg/p1W2iDDudWm2gJ14pvPOjHOVn7z6Tobb20n1d6HoHfKCRnS6RxwpfRvNUN8bYGuGz9kwYwxHt02+Z0M9Eb7cRi70X1AAADACnQdAKB/ZCdrt8Z0nkPsJppxtfLr52Y7qeDsnGb8R9NEacHQciJ/018NQU8huIrXt1OTA+g6AAAAoAXoOgBA/yhulq92tekJnrTf5DN+Vn79Mq20MQgtH5Ub51TqfCs2ykfLZgTX3Ha63Gs3VaWszj9ppxDcbtIvoesAAACAFqDrAAB9Y3Ybd3azKOlVvk6lGDMrn7eqYyO4cnhJpo97Vlmbr0b5UFbqN8bHbC8fW+k27jz7tHMGe1rnDmPQdQAAAEAL0HUAgH5p/Igyy3hqein5m29sQ3mOGoSpX2cSB9/bW6I1qvnUboR2nTaeH9I+RJOZ403tzfr3Fsu7fpk5iK7Ni+jBwMzSavTYps4HM6yDMy2drOvlk33xFsZDH+MnZbHz+2JS7labW40mcq1F+bkWoq2xtSC115sPpUzC7L2rzW3uZ0q2esPdyif7iW8uzNBUtJC2ENlJF2uWzBOPx8cLN0lewDDw4agkXGTtfcmbT6Uj0S/ufVr2LeiCytFb9nKXsjrKc9TVgdrZ8UEybzlWzrquUc2l9zbN/tRaeDESy5Sth5Gj6rr78kkiuqoc2INspeH0fb1NlsuMD3AeAQAAAOg6AEC/qDUMHWpVP51G6BOMoQZhPmY3Le1oWfPc8OfM9T3drD9cZ3hrbNWjcp1krdVmYvkHknZ/Xy2IMv3hz79aIv30u9J5/iQREZW+N5KZxHwwtJzIXt8+NW7Lqc9M24S2fjzUvkeCJOCweHP/VK/mD5irKriWUuq86H/KhfNs8pPo7fZuaV57E1yLn5xVao8PN2dHovTI3PYPWeVf4KLrbrPbtEd2+HO6RD5Y8XCNWvxaJPXbPEIej49Xnqsnu5GtdFlVL7zR3P+OrvkGQqOc3orGTyvuaW/2KF5BR/fa9aHsbqcEYTZpiK+NmHTQdY+/ttnB30jf0HoMtassP4zBlUPZlkNF6Lq3C0vBaW3VEOTGwVfmMbAQz1kluLfJIjjM+IDnEQAAgO+BrgMA9IkSPudUw1Catq2VMBvZiKGmdtQX6cUdos32cq07qp0QYaDYu+UDkfcVUBpS6Rdx5vMJJ8qWT6Ik+E2H1jOK4nrOb7PtwVBgei52qbz09zGv5NEqPglmbKG2ma62PNrI029hjNa9GTjpuj+ZdfqSt9+K5guad1y9zCZKbKvX49MXpX36ptOD6uCsHHmlTXkLSv/DlrPoijjxllVVzbHXdWpd1lN5fOVhDG6cWlWl0HVTwaWDtsl6LseoeJuajZee+TaCx8li2M74i8wjAAAAXwFdBwDoj3pWarb1E4t7imIfqNmspt5b2tHyavgWRUFT+BR7V78+XiOBdtpassUJI0Vm9KclQ0vIFWv6lhQJ1uyvMhdv71qcVxTx0HS8xLeYGF9ZePPina188wO01wuRRUR5aKLX49MPD6cb9h+mVxQR/s2hrI59oKYhCEPkY7QoYIaDv+7+F60BE5r/r8VnKw/j2yNLdp/UdXb99OnSA32heWJ4niyG7Yy/xDwCAADwF9B1AIC+ULoXOCbXKV6UPWnI0ji0Vr+ZgbDvaXibooeaD9fnxWsb+74NB3OfInWdJX9Jvip00G7bu4g3N10nHDJkbP3oZOVTrxTZKFPaJFI2f/pFtGi/x8cL8misObYi7AovPevN7nZrKZHNqF/Gw8Y33be6Xg3cJtoGF/HmquuY0KJPECsF3ieLYTvjLzGPY0bzIbe/EpwOaZ96Kr3jmUY1n4yuyUzX1Wiit+Bh3/FcTX2aCUxry0e2V9wgaFRzSZm/qoXXXPNXAQDdA10HAOgLnotljKBz2N5tepk9RzgoGhfEZA9sZNpL3jMnHn+ysc+Z+cXITjJTsFZDETSq5dN0Yufj0jyvYMGGm66LXfItAheR0KuuUyr7q5Gitla+eQx3f9Vlo14+RB3RxfSN8dTuj08P6FfprbW1tqS7nlG8tc49600ZLMTkLY11nI0XLH5XSiddp99dn2WS36Kri6KYDRvd6joz2pZr/i4mi2Gr615kHscK/XxPXJ5KiOyA0W/SEeLGD64YgqH2+FTjPTxC89/yvbbo8Au19Io4GxN2N7R+0X+nN8mVqCQ2/0dSlO3zVwEAPQFdBwDoB6UvmVNyHUEvfOPW8HI0sbNBBBgpwGhrstfzMbOdmhztkXXEhsvGRSttzdjtyVnx+raS+oc9f+S6Tgn7VA16GytfOYYuQxpbXo/PuGAKIafkOgpLLTPG2429WHSFWOezX05bK5EqOE9ZvZhkLzfOsZmNnXS2cFmtnwmvcre6zpxlFh7Z5WQZ2Oo6g9c2j30idZ2DA3YA1L+TUjRTwdblA5EkaZdzC0ykrgtbY5X75z5LU1LbAjT00j6tWdWWkgoA6BXoOgBAX9ACkm+C7/ecTXBK8+k6G9+kETiBmZUOvqDm081ZOqb0MGDDLFPRfCowg8B460j62tSHbm6ccdV18t2dpIWFjsdnnNAvE/NBIrGS5Q7OqPr58dYH6nQljSLyN25fxmHKmJfP2B5cip0p0bY9x2G267ruJ8tJ1xm8qnnsn0a1XLgaWuqgcPlaGySKJMkVGeILbGjqtatiaSgeY73wlZ7hajFkBi2JbDy0nLbPzQYAdAV0HQBgnNCfGo+tNq3+cHOWWOZBetyI5wvzxvi3LZJzfHTd3Qn3HHaOwywlhFnvVFZE4u34+AC7KdPLB6x85XQ4dtF6lAag63gcZheTxbDVdZjHQSN7abTU12WIDE/nnvhgmMhLwFpVWFa6sko+AED3QNcBAMYIapwt2ZS1/33MMvSoJDM7K1hsuBZzn+7NNJFfVNeJdWhDD7S8nZ2Vb6YeqXlZKoYMaJBv6u34+AGbKTNL+FgPY4t4oxMnVZy7rpN1U4J7BXqueZ8sjt2MYx4HjSziai19ZBxuUc/GpqotGDqyblbLChdHTlwYohuA/oGuAwCMEWzR3W5ZnYkoZgqbdfPbzV+zDdpL6rr2LmQGNylRhOB9uqVqoq33xqyiMWdn3NCu7nQ/3o6PH7CZMrPsqnpsKey4keGi6+z8bzLpyOyh53myOI66DvM4OMzyNtZL2EBeqraPguFS+MYOvn0DD3lbRnsPAPoHug4AMEZw+7ut8oFBlVbU5LE6IlvDsIxbM5FujoWaomUVaydrhiUni+8NTde9Ce8X1XRB/fcxN+WtX8RW1xmIVtdTs3tt1eFoQ4i5A1r0wdvx8QN2U2aWXW09PmabeCreqAYwXQdS103PxS5ak4vEpLQXbvU2WRxnXeeLebzNx1idpJmVrWRxWEUp5UHuoOvgCG2l+XSd2Vum6Z3GBO1kqpYVqv6Rl2oHXWfvMAcAdAN0HQBgjDD9KsGl7XS5RmrHP9ycHW/Oki0Hl8LqeC4f8FqCoeVE/ub+qV4tkqrZwY1UhnRQMB4Kfz3amX0T+PSrod+VzouFs/Q2T74iTcNyxpbynf5YLRj/ycq8JlKDm2z5/aT/KRv/yaW/sL0ZRv92Om9sKf2Rlo80FrWg9ia4dnR6ddd4vCulv8wzMbDQUs6x8btovPw0scKj+EgpdrLlRva2lgUSgzPr+xnyCc/zJ/trwWlt8zsvKuD1+EwwzlNmPMiq+JDts19Sl2Q6rrNHq5pxMmRSn9ix3ThIEOllusqYrgtubJOq69rqIS3Cfk8abbF5DEbSN8/8uSYeJstlxv0yj0QAh+a/ZW9uf23T7zus8hhmX/sOuq6lmaTPad6dbISmtLXDs2rt8oiuiYSGcHwqh+/4we+g69SujwCAnoCuAwCMEcTend3L3T+U0nuife2bwMzS5m660GauNR9Kmfjm4pyoaL+ylczfULug9mNvWWM1FbPEIidr+SFtYWl+URkzIeI/ITa9Fla3s3Zn+2XySUhXsZaHtKBqmiiuvOZDwey3a7xXJGbpt0vMF22uZYf0+S0OBFogcecjeSOyq+DMcvQ4p/St7uL4TCo2U0bPAbHYz9pSiwqTWvhj/OSSTtlzJUkcRyHtQzR5odiXVNexaW1paU0OfoK/1pZOk+Uy476YRxqwShZWyP9FnGSrm7p0yL97j2PhmKc4mk7XDroOwX4C2mPA9BiLQ7QhusbXs5t86aS3Edo+YxKxw8E3dV1bCAMAoHug6wAAoDcUXce3AAA4tMCMaC1wGedOyzafDKkL2seQIhq6rkv0ciI8HTLrTsnSMlLXGc9pO9rdDTk30HUAvBzQdQAA0BvQdQA4oed2ZclQmRAb2jk3/ZmDBLquO9qr+8hasm8H35Qcug6AlwO6DgAAegO6DgAPyJ4fw6sHU05wfyDy6zyh1y6L18qBuj4Ks+MTu+BbBodZvriDrkN+HQB9A10HAAC9AV0HQGdkkZhhFU0xQD3Mvrg7+Ycdn+jPwUsr1MME4OWArgMAgO6wlsrcyZA6h0qpTAAA4060+4ucytKvA8fsX0canLTj/iho/Npix8ep1X5/yP51qyc2wt79UQBAV0DXAQBAd0j/AyuYycshInUHACtXvANB4GtLq0lOn3VTzP4TplPIxiMnvXnBeGliGgMOEFHVxmzqSOmvbsqTLg61ecO08cjJiQvBlQpA/0DXAQAAAGAolPZZxZTw4RX9m0osmeQ2sD4Hf//W0itso00GnehuZ68tfc9NaokdOrM8psHA+hz8/XtLu+0bwyaDTnS3C+4VMDcA9A10HQAAAACGgF7cYdpABPgR9RWM/hxGQOZznr1XwOIUEv6ilVSVbwEK0mNmm5o4EPTcLmvib/GXClfqMuYGgEEAXQcAAACAISCs9nlmtVPpNTwLvv59g8YTyl7blOdijHqEwokyHEI26PkdOkdDSq7j3GfXqepeb0mi0wvfaB3O2UQJcwPAIICuAwAAAMAwqCZnqa5LluvVbGwhFNjI1IaY4aZfH60QaRdcOchWao9Ptcv0Nv0A4c+/hvm+rxmH5LqBo18dLRNpF1pOZK9vnxq35dTnOSrqvvxEMRsABgR0HQAAAACGw59fOx9miHLQ5jYPi/Xhi6tGNZ+MroU1olWMN12NHueq6FnniH1y3ZBoVHPJ6OosS6rUwmvR5Fm1Ab0NwOCArgMAAAAA8CFmct1pnW8CALxeoOsAAAAAAPzHkDvXAQBeGOg6AAAAAAAf0NRr1WpdRlyK5Lq3RxW+BQDwmoGuAwAAAACYdO6zmyztkDeLE+0H0AECgEkBug4AAAAAYMK5PqJNBcjYy+l/G+dx2q49tJ5Rew8AAF4x0HUAAAAAABMOaQpPdd1yMl9IfwmT/2ub6SpaxwEwMUDXAQAAAABMOs27n7srGu0PTtpO7KYL9/wRAMBkAF0HAAAAAAAAAK8b6DoAAAAAAAAAeN1A1wEAAAAAAADA6wa6DgAAAAAAAABeN9B1AAAAAAAAAPCa+fv3/wN7BM/m+vv/SQAAAABJRU5ErkJggg==)\n",
        "\n",
        "\n",
        "**Log Loss:**\n",
        "\n",
        "- LogLoss, also known as log loss or cross-entropy loss, is a metric commonly used for binary or multi-class classification problems.\n",
        "- It measures the performance of a classifier that outputs probabilities by quantifying the difference between predicted probabilities and the true labels.\n",
        "- Log Loss penalizes confident and incorrect predictions more severely.\n",
        "- The ideal value of Log Loss is 0, indicating perfect prediction, while higher values indicate worse performance.\n",
        "\n",
        "\n",
        "![image.png](data:image/png;base64,iVBORw0KGgoAAAANSUhEUgAAA1sAAABPCAYAAAAdk98VAAAgAElEQVR4Ae1dz0scydt//5U5DDgnPc1hwZDL4EEJRAlshC8oe1ByUHKQLGxQWDEQ8TAHD4LgYWAOwsASBpYlIDIgxkNkDhEhyEDQQEAhMEKgDwPPS3V3dT9VU/2j+sdM98wTCM70dFdVf6rqeZ7PU0899X9A/wgBQoAQIAQIAUKAECAECAFCgBAgBBJH4P8SL5EKJAQIAUKAECAECAFCgBAgBAgBQoAQACJbNAgIAUKAECAECAFCgBAgBAgBQoAQSAEBIlspgEpFEgKEACFACBAChAAhQAgQAoQAIUBki8YAIUAIEAKEACFACBAChAAhQAgQAikgQGQrBVCpSEKAECAECAFCgBAgBAgBQoAQIASIbNEYIAQIAUKAECAECAFCgBAgBAgBQiAFBIhspQAqFUkIEAKEACFACBAChAAhQAgQAoQAkS0aA4QAIUAIEAKEACFACBAChAAhQAikgACRrRRApSIJAUKAECAECAFCgBAgBAgBQoAQILJFY4AQIAQIAUKAECAECAFCgBAgBAiBFBAgspUCqFQkIUAIEAKEACFACBAChAAhQAgQAkS2aAwQAoQAIUAIEAKEACFACBAChAAhkAICRLZSAJWKJAQIAUKAECAECAFCgBAgBAgBQoDIFo0BQoAQIAQIAUKAECAECAFCgBAgBFJAgMhWCqBSkYQAIUAIEAKEACFACBAChAAhQAgQ2aIxQAgQAoQAIUAIEAKEACFACBAChEAKCBDZSgFUKpIQIAQIAUKAECAECAFCgBAgBAgBIls0BggBQoAQIAQIAUKAECAECAFCgBBIAQEiWymASkUSAoQAIUAIEAKEACFACBAChAAhQGSLxgAhQAgQAoQAIUAIEAKEACFACBACKSBAZCsFUKlIQoAQIAQIAUKAECAECAFCgBAgBIhs0RggBAgBQoAQIAQIAUKAECAECAFCIAUEiGylACoVSQgQAoQAIUAIEAKEACFACBAChACRrWGOgd4DnL5fgrm/PsL9MNuR2bof4L+/5mHxfQvue5ltJDUsIQSMr3VYf74Eh20joRKpmMQR+NWB2sY8LB62YZC9ZLSPYPH5BtS+DrLWxNHLRoFD6sNsvHzeWkE6cBg9RrpoGKhHrTOhOWK04XBpHtbrnVR0G5GtqP0b9zmm8FamoFCchZ1Pj3FLG9nnjc+7UCmWoPDHEdz8GtnXHPsXu29tm/08sdKAWyLW2RwP9y3YnClBYXIFjr8NuIm9Ozg25WUFNk8eBlz5CFU3zD4cIRgH+SqkAweJNgDposHinURtSc2R28YKTBRL8GQreQd/wmTrEf57zQhECSam52HuefD/Srlk3l94egBXSaCehzIcw2EKlo/v8tDiobaRT4DCH2SID7UjUqrcEZQzu3DeTakS7WIf4PgPSzbJsqw8WYKdT9oF5vuBX23YYURrmM4hpw0V2PlEK1zaA8rBjxx82tgN+YHUdODnXcv+Kpahgu21mTIU/teA2yG/96Crz6YuGjQK+awvmTliwOX7WXNOPHl3kegKV8Jkqw17kzZ5YqsRGv8nXn+EzNhZqY61B/jvT6szK+8voEte/BBouxOACFcIuHJ0i3F9BAtMZgxjtcQXJ5dsqeTYWJEt4xoOf2dOtAw4h743YNnUMUS4fIev/GOW+lBuG30PgUBKOtAhWwp7bczIVnZ1UYjhQbcAQEJzxFkMKUGShCthsiX1uNGB2v+kSTyzDaffHqHbHU/PpMO+Zw7gioiWNGB8vhpt2DM96yVYrNNqoA9S+fnJ8bRPwXozo6FhPQO6P67tkF9Xlo0P2XIV2MTrZib2Tt7/Y4V6FH7bhnMKLQ4x35Pvw/uTXVh8vg2n4+EhDYHxAG5JUwf+eoTbEyuU23EujRPZSloXda+tva21zgAGBlXhIJDUHPnRtJ1607B5lgxXSZdsQRt2pNWtuaMxHnzMK2viQV5ZZ3JofGBL/E9s/Pa/aDxIt2YQAQPO31Ws1e8chIcarW1hpX5cyJbxic+5FTj+npVhhFYd15pjEhERHftE+/BHG2p/zZv7GgrFpQyNiej45OnJdHVgB2rPXYfS+IQRJqiLeo9wc3IAi3x7zLuLPA2vkWhrUnPkvrFi6/w1+PAzPjTpkq1OHeYEslWB8TWSRQOBsutFGbzunsDC8yO4oZXBKCBm4hksEPfamWiSfyOkcJuxIFtGG3aeWsbXk2rGOun6wEqcUyzBm5NkPI/+AyCnv8btQ+MRut+u4bxZh82VaZtkcYOcyNbgR0WaOhDZKMxuG5OVrbi6yPj5ADefW3Bc3YAFTrK43Utka/BTBBKaI71r2LejqQp/tmLv30qVbHX/3RC8wYXiWzgd07AP5hlnWU4KxQrkwrgcwhQJVeWXA3t1qwSrTcriGAqzrN3U60DthW2wrWUjNC0QojEkWze1l65nL3NnUzzChzV7DLHkSuR4UQ7hqH14+Z4TKr+/RLaUoKd9MTUdOIZkK6ou+sGjlPzmRwkKRLbSng3q8hOaI93mmq0D4y8UpUq2LqtWZkInBnhsQz7uXOPyRZ1WZNTTI+RVhCUZWSExy9Ztxhl3PEzBZisnqxLjRraMC9i0kx1NbMX36qUxAt1xlB3HS/fkLUwWX0Jt0KnxVQDH6ENOtsxMnEsbsHPYgMtv19IebCJbKtjTv5aWDhw/suXKEE1d5JAtK4vj6lYVaicduD8Rw82JbKU/G9Q1JDRHkAwtxOQvKZItKf63WIJx3a/lTugSrP6T0UQA6hGbyauut6GUH2M9k0gOo1FYCFbhMi8rEmNGtm7rfFUrwyvxLMzDDnMsPK/DzTCGs1Qnj/PPQphp8n0oGeO0Z0vq/cF9TUcHSv078mGEKegiSU8Q2RrcnJBrSmqOXO3be8uL8xAn30l6ZKv7EdZ53Kr5dwp2PstwjMN3A063+FLzGnzIXDhODvvgZxNW+dh61QSCNEd9iPZxZm4fkB+MkhLNgjHt19x4vyFH2dNsE2JXEU5nIjw7O2QrjT6UjHEiW/GmWZynU9GBUv+OOtlKQxdJeoLIVpxBHvPZpOYICkksx9i7nB7Z+sQPy+NEY0z3a2HSmYOsazGH94Aex0qBCOyAQE+kmqsD7iWaytfBwJISHWmyde3ui5zI+p6Dz7tO0oY4ijCRwQ0AmSFbqfQhlrtMr1MYYVLjRr8c3BdJ6UBc5ugnyEhFF0l6gsiW/shO7gk8nmPMkV4bdvj5wb9Fdz6mRrbcgWyTrTElGjhJyLiGUSY3edySbmrzTvIVSpTh4pLtTyjsK2/JciQlOspkC8vuzGf6M1qwyVe5fzuAqyFPgKyQrXT6EBsvRLaGPNQgeR0o9e9Ir2ylpIskPUFka7izJJk5gqPTpiNnVE+JbD3AhxW+omX9fbJ/PVzUh1I77qQSbJ4NpRGjWSleOU0gLedogpSxt0JhG4X/1eE2L/u1GIySEs0l2fr1CN2fQQlJUPhZcSkbiR58h/EdHP+P65pZOPzqe3PqP2aDbKXVh5IxTitbqY8n3woS14FS/+aUbBndR+h2A+RcWrpI0hNEtnxHcPo/JjRHbo+XHOd+JeJZwemQLexttL2O40k0sPckeshF97oBmy/KdmeXYWGrAVfdcOO027mA05M23Kadcr93Bx+2lqDCzpmYnIaFjSp8uJZSs5sH/tVh89U8lM1l2TJUXu3C8ecISUPum/YB0SUoZMCjHa43xvsuvMobRwndnx3A8rSd6XRyGpb3LyDUuXU9A26/tOD05Drc/bi7JCWqRbZYvZ8bcLi1BnPPZ2GSycTJaZhjWd7qLbiJeGBit9OCGitzhsuGErDscavvG3DeceeegBere2YXLr3kAQ57Lu7CeQRC3G0fweoz60ymyZk12Kwr+udH2zyXZtFu+8T0S1g/bMFNSLmGuwZnvR32KncmyFYCfYjxdT9LxjiRLRca9EmYb2nKp8R1oNS/umTL1u87G0swZ8//QnkW5l5tw2GjDbcB/AdB6H60ZeceK5PL/GIJJmeWYP2wCVc/7Ft7j3DV2BbOuZpYaXg69JLSRW5D7U+Snoij5/rKHoULebUT21UnXD1qVsJ0yBaKF7fSvidzAnPuxpqTHpR5XqMYLgbc1FasTmZC6zknKSUoPN2Fcy+DyQbq/h/7WWZgvf4IEeyYcJD37uB4hRm/ZVjc2oX1ZzzlfwXW/7WIlPG1AW/s66YBVq0Kh2Q+ed30FIzqRrRhxybyheIKHHOhq76ZrmYAAZ5OmsmExeM7/Rb1HuD071nT6WCmpObEhY2DwDBlAy6r1rOs/icHmivtkhINS7aYo4SPezY/KoxgVauwt7VmOSbMMTwFC+9a4cf/rw7U1lyCZRK35/OifCiWoLJVh9qf1jubc26DZxj0Of8Fv6eusQUA7IDQSrEEE882YGdrySKW7B1fHMAVM7Z6D3C+b183nTK7sPcOHwb6Eva/6FllnOCYuub9cA9f5m0JOz70J0GIJ2L2oXcNkjFOZEuEauDyKWkdKPWvxvxnBHORH+jLHEmvtmGvWoWdjZe2Y5XZQLOwWm9DN6wD574FO44tUQKTuJlyznZYcdl50ID935nNMQXl3zfgzQrfF+ytZ2LrIrHn3W947rH2ZX3Pq9vy9D/l2U6UbPnLCGilQrbwkpupAJ8fjefZUnjiaQgu3o/M+8IOQq783XK8QlhI+C9n4lCSEhT+vuDFJv7XSjFcgZ0z25sukO23UGtumwZYYeYtHH9xPe6sId0TfuZSCZ68u9A4pVtUDEM1bhJHdBQLjN9fVweMOEzBcu3aVthimb77i6TV9sW6JtnDc7lYCpHcAzlKilMwx8iU7BxhXtuzKizwzbdPN+DD94C+/9WGHX6qPS8XcxNm8L2bd71wxQpsfrwDowfAnC+mPGZGwB8NZRZPThbM+3QNBX4myR88RPQR/nvNQ/xKMFdtQs10ykzBQvXCkWnmG/c6cMgPumbOkyAcMEy4byLIWVxU3M8cv2HKI96GSH3oC4A43yhBhgjW4OWT2B/xx5xYXiHMXEIEkzmTVuvXcI/lEYPIXHV6a9kA3PEiy0IRSoDvDVjmctEuVyBp3WvR4VRcgUPbtsAr3RNK54v4nvFxQ43HsojIFgIGIN92InZsRItSS4FsiQqWCfxE9mtxZsm8Jsy7YS9TZzmdvKD0dPcV/WpZh4q+EIkqJlteBpM5wjlebMIXS7DciBCqJ0wVjy/cwFpruqFZUt2m0p/ZhXPl0homhdOw80mW1B71grgfLtJKiVfRjAS2dmHRXi0wx9sgPi8deId3+bQ1Hz9hYTWvv7emU4cFtmKy1UKeUVFpFpSK1UYHZa1jhE1bbkhKNEhB3zbcVeXK+wvUZkVvfau7IbG+K9YGXL53vbYFh9TIZYq4LPNVxF9t2GfhyOWXsP9JdHrwErB80U3ow5XpHlpcwuWZcoCRZd4eXqn912ihA0HDGHr8ebz/IlIEAS8o/l8u84PGR/yavEvAmOv2oXep7BdxXBHZQmgNRT4lrQOl/g2cg0we8WgB73nNUeqe7cIT2x7xj0QQ28GcsALR4gUabdjh5+wVK67t8L0J69NTMDG9AcfKw8Vj6iJev+qvpCdoZcsGKfd2IrZTwzhb+wdH8mQLp0m0J5avx7m/Teorxh1cnrXguLrmekiYhznDZ3dhD4vupLupsZAf+UBRscP9YkcFw6VYiZxBRd0Z7lV+YLOwV0IwfuyQRyXRsso5f+d6vwtbrdCrW9ioKCecgIWtzrJVRctAHNDfSU2PvtsN2f+E9xdohx8xo4KFiUjpW6XVKj+nDs5KZJaju09KUqJ+xrTRrroyypc8ud3mnhdVAs95/c0inHxMepEWVio3+q17w4Zxi4mN9BwY9gGhTw/gygkTEo1B1pZlvxXF7w1YdOacxgGSgnMn7Lu62Cf5iePuNz6SrK+/rDh92F+aeEU0golscXSGJ5+S1YFS/waQLWGbQmAYN8PqET6subrUS15zm8KSXf5HhFy+51sWmJ2BZQ/vG8XfWLpIUR6+JOkJXbsPFzVKn3mf5tdOFOeG8B4hOyp5siWEkLGJlfx+GmycZ5psvXcFi1bYEiesL+pi+KVkbPl1uCCEituRNrqHGUNWPaKBI4QrMY8TDy/0KBArDLa3LWw8rBCuqhvy5NEWupwSAoJBrDke7WfZqhZe9+QC3FLKfg4FUVBGyoQoKVFPY7rXgZoTDqexqi84KNQrvOK8CvCuSe31kxVuj4s4aSU1svtINKDasOeEArHQRR5e6NYofBLGiMZqfO8C7d+MFuIhtCPGlyyQreM/XL2j1YeB7y2ODyJbNmBDlE/J6kCpf/3IFo+8sZ0j4eQLgOgEVs9VwUkd4Jjj883SASHTcgtyRlMXBc0RSe4S2bIAGwU7EfMOPUekhUHiZEsc/BrehqBBjH7Hxnl2yVYMD6Md8iR7rsN756UVMI/9GQjSiB9tY0pI4y17s4MPs8aDWGfVQRhrumGaEd+YHouIAM7moxnqZfWz7OGUxpmfV1NaAVPH8Qe8l6REvciWSAB1jnuQiMmrZt+eKiz3mHHh1QbzTaT2hlP6Yht8y5fg4kRQMO4FAlmCwJA2YWWrBOFXq3FY0HDTv3OZpIOdBGXMr9H7MLhiyRgPMISDyxuNO4Ypn/h4M8lGbB0o9a8P2bJChjmp1zgiQlhVKkH/QeRSGwLGmPD+YRMvxdBFgSM2ktwNLDXnN4yGnYj1r3++BHV3JUy2JAOIeT2iJmb40YT15/Owp9jDg186y2QLexh1mLBx3YS96hGcCpvEcRr5EhT8BKvguQlh5KjHRvDV3h2cHlbh8AQnG5DaGUj08Dk5THirvV2qxgiC1kcxqJ6lawNGQFBCepk571tHsFdtwBXeVC2ktw4Y48J+rRJECmsW2u9FdAw4/xuFtWidUxVsZGC5lxbZcjN8er2jetwYXxp9fSSkVw6zTw6ficJ0R+jVaky29NqtfpvoV7lMGibZitqHwW8dPEaDyxi9O4Ypn/h4M8lWbB0o9a9neXbIsBPyq7M6JM7V/izNUhsC7AHh/cOSLUGW6+miwNErlK0jwwJLzu8NI2InCvo3tG5yuy1hsiV61ZgACLu87DbJ+mSt4qg30uOXHkWyJWNhfhfCM6dgs4UDqsQnxKV6eUVAvDfxb5J3OtCbLa066ISdCoLWUzEk/oa5KfDmCGel417IdP5WDjv+uAhKKL6CEw35l1DzqV5cEY64L05ov5dBLzkaAgwFETDZyOiXnXz1yDSsigGkUWpvuAQ5oiEUlzCIK9bBK9xiP5Ug/Apksu1m/dL9+HbwezaLSazKJY+FO07lMRreMeaWEfJTtwVveCpxx6hPR3YVJt/Cfz57ikO2WLhtUPIpWR0o9a+XTpUcXf2ESYBC+iKOz0KxP/RPDCP0nxPC+4dx6LDWCLIxvi4SXlAoO12ylSn9LoAQ4ksO7UTMO8I7Al0skiVbUthIoagmS271Xp9so8UjZTx+6XEhW1cHKAvZ5DacYi+/BKMorMT9VNKtiX8VlUyIrG8CiWSHve7CpbPB3r95gqD1Ugz+RYz0r/cftweUUXEJNv/Fq5sKWAUlFFfBSRlP5b2NQvViOG/oTdRCGbKC9iBbfUaIjjEqGTrsyAf5pPqfH2Ed7YHyC7MT9nLIiUXkd3O+i4ZQPLIlEc/AFW6pT7UyqCbZbgsMo30Qbe7YB69OzljnnmllMl3ahv+EaAanYzQ+JI+FW7k8RnXGt1tKqE/GNRy+ioBhlKyxr47EVfNQDfS7SRrLKcqnZHWg1L9eOlXW2Vph4eL4ZI6jvkiD6wM3wVCAw15w6DythrMdEtVF0jgQyk6XbGVKv0swBH3No52IecfQyZYIoJ7hLHTOlwMzRajXqgh+6fEgW5Lh4hdCCNJ+LWE/lYByKl/ExBzB3mxBWTAP5loz9OHLwrNeiiGVt6RCtREQlFBMsiWRGi85YbZRXjmNGtYstN+DbEnhuzohsf1ptdWKGqeUL/y2rT7Y3GjDnnMWVwkWZNLm2XmiIRSLbElY+PYRaw9PCuSsYvglPJFfIMF2y0VrfucyKRZ2mnWKt6eJhWSMa63ciq0c6W8DlE98vA00jFCShfFWtlQHD+OU8iXwTGj0o4nO4pqCzRP1cRZ9Y01of0xdJBculK2W4fIj4/g9j3Yi5h1DJluK/Vq+pMBriLFy2L4H71Ux/NLDIlvd6ybsvLJPMi8vweGX/rA+3E6dPVt9yEgrhn2eIPyAJOjF7GD4xjQ+S6QwMB1s/5iRk4L4tVJQNFGNaL8K6LfkEBCM73gKTgyT9ZYTZuMlL2zUsGYx9GQwZEsdRiet1L3YhfPvruwxvl3A3u/uvrHKn024DblSLBO+OIRBdLyFCGWWZBxb4T4P3W5MMDQ26yc3up2SuEyKg51TWKQPIiFKth1i2XrOhEgvk8uHBimf+HgzyVZsHSj1r5cDUyYUMVe2lCHOvTbs/eaGjT553YArflxHz4D7Lw144ziUpmDhoK0+i0s1ghLURX3Fy9hE2NvTV+bIXcinnSjY835HmHj0V4JhhBKAbLNihAaBfThgwWfpHb+0L9nqPcBlowrrSzYpKpZgcmYJ1qtNuAqK0e49ws3JEawvzUPZDt1hoSGr7xtwWtuAiWIZFvcbsLdkC4TXH/tWZHA7fQ9c9egcflncq+EfFigKesUSPS80jb+CEAuR9rrPm+2/90ZushAumbBQo0ONZbRjfhfGRrzjIIR+98tCCADiPqAAYub3ipISVRux2OhnckEnzEoydLzC6OxV/4VXG7Dgt6dlch7eNK7DGyDmu4ttUBpBfhih30TPpb/MYo8JRqN9eLVLIVHBqo9ChjMdzFWFxbvG30M9PuKVHe7p5Pqwvz6xbL3x3V/aqF4ZpHwS6oqtA6X+9SJbgixnci6qY4Q9q95q0G2umeeMLr9ecewvvldV+Ftegv2zOzBCO2YAQGh/PF3UN4YlPRFlBaSvzFG7IOCfFztRdHJGWTxJjmxJG97Ygbz7X3RHCXshyyu74LPjHZMYL7LVbR/BommMzMLqYROuvj1C90cHzutvYc4kT7Pwpumxz+TXNezb3uGJZ2+h9vnOevZwDSZ5mMuMdYCedfjtFMwdXve9LFe8pnCIIQiFuGSPfWy8cmFvF9urwb1B/IYU/8pET0gDrarXNhwd4bnWhHsNoYnHQWCYkqp+n2tWv9pEmvd52n9H+VBjwEQkjkEsZa/0XT2X9k4EEDOf4SBtqvZY2QKpPq1D16XwX6X85CvB9rzuGXD7pQm16jasmntVlmD93REcn1zDrc+eTr/3xHMqikKxypbeJTCUWTzstP8wd78Wy8ZTcOhyQGmxfuYyf3hkCyCZPlTBIBnjWs4EVXmjeG2w8gn3dXwdKPWvF9kC2bGuQVjksG6ljWLLDy6vjQe4OWvA4bsNex/lGmxW6/DhcwfuQ3tk8FhLShfhMu3PRLYUoIiX8mkninPDN7pMfF3nW2JkSwwbYUaqvtJz9yP4r3BgAaMiW8bnXXuD5SzsfFbMxu8NO9Z3CpYbMuEy4PwdT0bRT1au9vlv/dnCHFTtD8KgCtwgLj/Nv4ud7JvyHSRBH0DMzBp+PUI3omHGW8j/it7sYAGMsSwUZzXJuehpiBwexhtPf1NGQDTAVfM2XAOwogxI+S4cdhtwXEJQ5ZIS9TKmLY+sS9JDj0vZCFFu9uZGjo4nOejFxN+FlcD3bfHHsN8kz6U6HBIV9rMJq8iRMfFaz+kC+NwcbqCh4gf5MQtkK5E+VIIm6SIiWwqUBimfktaBUv96ki0AUXf3ZxRUAGNdksOFVQ5WvhXCp37P8kP9kJQuUlQm6Qla2erHKJ92Is60HmUhCSAxsiWsvjDFqUkubv9962agCdjr40u2cMaurRYoqJbZ++6hfLOwjxelsKGgegc8mRShg8LQwvtFZo/gRvgx7BdJAPqtkHEhZRsu/kaOAZdVNzX4xEodbmKRLlGAFYKIHu4nlnnt/YVmyBOuL9rgD9sDdF8SCIirPlE8Q1YrRGPGd/UFzz+vsLywr4bnvd+BwsYFbKKMgaGVrXQWmHpln7/7NGyeeUm2sC+kvk9wmvmuGqqfZ1cFJ5Mq25j06NXBLDir22x195t0Q8BXoT6NBDsBxUb6OQtkK4k+VL+8pIuIbClg4nPUcrikK5+S1oFS//qRnW91WEAOEt/3RCjx+WHNd48jbBwbLK39l0npIvRi/KOkJ0LLf/78yP/FY7YEubETBWdo/yJMmG5LiGxxj6vr0Q29pN29huO/XKOfTcKgJAl+ZAt7XNb/9clOgw0xrKDxZAkiW6rfMepCB+mv9FlFid4rv8nrrgxa/eBn0Bpn233nyMRKpiHsm2D1+70vI3rIwJrZhfOgPXQYV/Y5EWzlQul7mghgj3tfWvPQFWMPkyqTFS9Iymjlk3CHP+H7F8sFP7LF9h/9s4Lmlt884DVKhyHbIcr8V/cvNoZmYbNxDbc/H6Hr8V9rHwOvBHueIzqIhH0kqhT2vC72V8ooFiT78aP8Mx5XofUOfzjhv9yY9Fr5TLg6dXEJ9KG6YDz+mIyPEw6sriH/VwconxLXgVL/+pEtkHR4kHPV7FjxMGTPFWy8l3tyBfbPOnDvIeOY7Isi57DMiK6LFKNV0hN+9pri6dG/lFc7EcvUUGO9vytjky2j+wi3H7fNVO2OdzLAm2n8fITbLy04fq/a/LgGH+77G4qveJMtkfT5hio53hOmNDbcQw0xqCoyhSaT/8oRazEWXv6H8+H3kz+7q3AlKPxeh1v5BsY9nNBJi2gFHQ58c4jIjuOhih6eJHiX7fK8vF1CW8tr2p5s8/WlfgqfcU0BHl0aDAJ49SbiqgmAREw8MnDJjged89v6wOgZcFNfcVdfWPKf2jV0vRaXenfwYa3s3q8KlUGVCPMhYGWHrVpMOPOVz3Wfv+VZWN2qw2nHx/GE2iKmYA9DFPHD7LPkuWRt/W0XzlVY9XJIosQAAA8BSURBVO7g2N6jyzbKz1V1V7dZfXwfG8MgRNZDubkJf88E2cLGqq/TS+PljUfofm3C+lM81qZhtX4N97EiIjTakItbByifEtaBxn0LdnD//rYNpz9UE9fuiF9t2HvmZj6dq7Y9I4nYE4JMDnCwCqvdIeTdxPRLWK824BJlZvUdLonoIrEG4+cDXO6/dOU+a/ezXTj9Fo0QiqWPxre82om43RN+0WU+3aRPtnoiocEEK5HPAYYJexdPsiWx5vBkawr2nO0JmCBtw6kka1ziI4UfeoCME1aE3r8hlyWE3FVg5wwZTr1HuGqgEEwumALYd/fjW4XR9hJqmiE8vKmyN9saCyt95d2f7NoJSkpQmGHCnJeg9xeHygzbm63X8jG+G4e5/nYAV1GhEA69lMZY7wHOqy/7x7Y2ucNyABuYis8qD3DvDv7703VoTPxeFVK0m69uz10rYQ87l3AFatdobqvwkYkcn+8h/pptCHBkgZDkQ2MvBm+rJIO5TnjyTiJS3WuoOYR0CpYZedVIjsOrA2GzfhRy6JaUxKdMkK24fajIDsn7MdRf1XxIAty8lDEQ+QSQiA5EzuOgvlWu1qJkYuz5yp8oRTvvL+MOzveXUHKxEHpfInJBbcO/szYEbomIrYvEcFFcf5jPSiw5XiP8N692Irbj/SLG/LpOn2zdN2EV70kIoeTDDD7rnilYbz74tdf8zZNsCatVJQhPtqR7v9Vh0X6vyt8tuLUJV/dL3UmssXB47evFcV4ChytqG3xOKWB8rrokxUxhPw9zz+ehYqd/nnw2L6wuBoYEMmMQhW9OTFoeqmhCQPJmP63C6RlPUjIFc693YY9lTJvh3v4yLGw14UYisu7bBn9y9wjSfq1gtLJyB46Vj77Sy97m9h+UGbQ4BeVn1nywjmmYgrlnLtFhskXf0cHIVhkqZpY/q2w23/r+szHtaVwacNPg2U9tklaetctwj6MwV3X+Uhgpfd2mKE9X/j7dhcuAeYeNON0QG+wBNHFvtN3Vq/ISbFarsLPx0knnPDG9AoefAwhmHw7oAs6Ci8PB0S2D/JgNsiUa4rp9yPAy32Nyun+8q+YAvjY95TMfBtkTw60rffkEkIgOZCs80wq5hvv0uXX8jadtwBxcmEyxoxt4mc+mkeOLHZdz4dhTnj2kKC+8DWnLWVVUklBhXF1kkS12HFCfTpCwE3+35L4nlkIbR+1LXu1EnHgu2n4t1pP6ZCsD/e9JtkCMlw5PtlaE0EVrPxMLv+k/y2byxQYcngUTQgcmYSUwepieWd59G47fr8EcU2imkVWGyhJrzx0Yn3aRUNM4X4tlI2Rxz592zTIjCQHJm82XWY2v6OBnmyCyc8pCL/U7IEofcJjMkLOPSS2jrwEI4Gx9XmGmAUU4PxvfWnC4seQ4HArMOHy1Cx++PJohK66CjnG+llNbjA+9B7hq1mHzlXtmHyNY5WdLsG4eSxHAfuyqcRjO5FodroLyHhuPcPu5ATtL3MlhGSJzPsdqmFXh7ICeRFKNh+i5XIHj7wDAjKfDDVjgcov1E5NbJ52Iq1lu3ZzcmMSuGYO0uUXG+sTbE0mOxqpZejhGH0ol0deICKQqn7KoA7sdOJfONS0UmcNqDXYaF3ATJK9MnPFe2ymYe9cKPsbi14N1JioKaWTyYLPlL1eT1EURh8h4PZZXOxEv4sRw6I0Y2RLjpZf/8SFFOF3wC7wPiu8B2IVLeyqwfWnmJnT/ues5cdwlyGkUruh5e6QfcGKQgvLsCv9irYOToxmlsjc76jKrfwvRr+h8LnXWNnQvfcwWAjh841UTAqPaIrVeOrdpFAg5FvieCTS8wMIGTAkKgYkvsNc3eA+tW6vkuQwIZXafi/oJ9fPkNpxmYO9QZsiWEEqo04dR+4KeC48AGrfMaRpFPo2oDmT7V5/Yq/WeCTS8gBb2gIY46mMgusirseN3Pa92okvKPbJnhuzKESNbAIDjpX1YqJuNZgrErIV8r0bwOVEhMRZPLNfZXNd7gMvGEexVj+C47UMchT1dJXhSdTaghW6idfbBNpxH2Deh9GaHrln/RpdYkhGhj96wn2CGPz+rTjObWbcDp/Uq7FXrcPrNx/OBZQALIfRzugwbjpD1W84Qa2UqSsY+EFLSB4dCYKMn9Aqkh+cy5Cvq34ZWb6LIPP0Kg5/IDtmykiZxwzV0Hwa/It3hhcAA5dOo6kDXloiY7AanpA/cFxxDF3mNAbruiYDbt0yP2VEPnnfH/yGZOYIcI8qzL8O3c/TIlpD1JuhQY3a+U38GHT4oJlYO4PTsAs7R/8vOgxV2p0VK8Ipbf9INZXcZbdgXlsXnQR39I3mtmYdXN406D3X0IafKNpoXB+zNRkZjVgwsb2zoFyUCSCEGhrTxAn40YdXen2iFB3rMI9m7+eIIbrTmKq8wW3+F0OlPUdrGnUhM0YUhuShN8/N6qDMCB+25dJMVZcjp0qnD6tIunKazZKvZ8fp9qFkB3c4RGKR8GlkdqCujOPj4L05cEWLbRhRdhKujzyERyKmdiMZHXKdtfsiWcQeXjPSc1OHNjOXhZUZX5c+6RYjad0LCitsm35jONmU2wSRJ367htLELi6bRVobFw7Z6z4DkGbeMO7dO63sZKq8O/D3seBiiMKAwBqZsuBSK6kQQQtro4izsfNLft8DqmihGXCIdsDfbMbAmN4R9dhhq+px1BLBH0YM0Sa/grkTzeahencH7mlh2P90DcqVqM/PVDUWOkuyDvQZWdmrs5JfFq1tB+x/Ys9xJZcnHlD2XyOCsCKfSy28x3t91+3C80Yr+9oOUT6OrA3H4coRMqKz78NljocIz9XVR9FEyxk/m0k5EiyTaofv9fZ0fsmWSFTfrGM7wYmYgU2WfMZf1t2H1uZv5a3JmyTqPwSfluPG1IZ0nwg081V+P1bN+rOGmxs9gCE5RzMNRONFjWRHvJQ+98eUAFpzMkLOweeITaqhoj3mJrWox8hpxiVQmhfpZ37waprj+qwWb9vsu1+8UN9Cl3CCA+jJM6n68ssOSSyzXOoJzhb337b/oCIQwadRzAxYAoD0ahQh7oSyHii2/QhyvYUHD9q/ayXgC68RkLuI+FI3+cGTp0wgHomvUk/9bdfow/287rDcYmHxCcnMUdaC7PybEnitFZztyoaixnQJhGkYXKaqlSwEI5NJO7NRhwdw/KB23FPCuXj/nh2x5vUHC152VosmXsO+Rktj4eQeXdWTYzRyFCrOBXgdqLyyD54kifFF4la9HUDE7+iXsfboTT0lne7kOUerr8lrw+TxC4fwLD0Gcgs0T/RUx6D26xpjd1sOvvOyk/6IT6/+oAx1inDS+gy/PJQDB+yOdc+F+24Djr9JY7Xbgw7t5JxvnBDtI0seZMvg3TaJGPlct+TGx0gg9B7pt7JSRziULahoyRJYbPs6cr0e2YrIJ3V+tPjIcVFXo33807SM4klGCoevN641h+zCv75eBdg9GPo2BDpTCwCvvpfP5fPqaRTNZNhNz9ug5YXR0kU8T6CcVArm0Ex/gw4rlaOw7I1L1jiGuEdkSQHIPbF4IsXJinLy1U7B77acSCre+fG+4hsJnn03+wt6zEuDzHKyzhJhRE/LcCkUz2CUecqUj0Nhz7sZD27CyswfxVTj+19c482iT12WXBI9OaJjXu47PdUQgVCvTAhDoXnSu1hxatS5MzsObRtTDcYXKsvlFOii5MPkS9k464JVR2fjehho6S4/dv9+WiGqIN3XmHtvUjEksSlDB57z6r5vZNUR1/rcgY0xXbvkXPNq/evbhaL/2AN8uffnk9OEIhUcrO0g6KLkw8xZqnyWHM3qw22nBPj7eYuYtfPiGbgj1EfVfoC4KVeDY35RnO5HbxoUZPdLu1+lEtjA6aF+V7xld/Bnd++3nHKHJvC8B6YqZIBHOEmLnVixtwF6jHXz+BG+nx1928GJlLbyH3CqGMX5/kmUZXGX/Q6U92qS8/KsNO+Y+vWh70pRl0sVsIICM5zBZ9u7ZuVH4vCrzbK1tqPmQjmy8aHKtuD87gGV+ZpXt6HAOEbUP1OSHnfO5uLAV5tBk7zY6yucPJC/w8RkeDhdWv84qnHcLrF94O5IsM6jOUfmdY1fAfTgqL5eR90hNPo2bDuw9wlVjGxaEpEii05ltJXEdzyVg5ywuhzk02WusaOoir2LoOkMgx3YiXxBJ2KlBZAvPDHRQYKiVrTOWWIIRj5dQ0/Sk3Le2rSVvUny4B/o/OwIw4p60/hLpStYQ+NWBmrlkX4GdT/6rvVlr+jDb0+1cwPEh25M67x7sbJMecyX81TbUmtexnTLWOxpwU1sx5R0LqxhGL3En1cRKHa50M64Os6MyU/fw+zAzUOSpIeOsA3sG3H5pQu3dBizK5MqOcFjcqMLxmfcKv1ZXky7SgiszNyc1R7hTI4U930S2pNHieP8m52HPL7Pft6aTFVGVPl4qVvm1+6kKc5MlePJXC8h2UEFkx82yvjjTD39SlUjXMooAE5ZrZdNxcdjJaBupWXDbsPaKLhwNtpOMdtV0Tk2uNeBmGExvhPp+WH04QhAO8FVIBw4QbKsq0kUDhzxehQnNEaMNeyyCqrwGx53klQyRrb5eNuCmwdPGT0F5ZReOT67h9uejeb6W6WXZWoJJ04Ns7ZmSswT2Fel34RcrN/mO9asyT78Z3UfodgmfPPVZ5Lb2DHOOUXdHRnAgDw5lTtpjw5Aysg7khUewkqH04QjiOIhXor4aBMpSHaSLJECy/TWpOWIwOz9ga09UJIhseSHHzvVqHMHmq3mYw/sjyrMw93wNNustuPnp9TBdJwQIAUKAECAECAFCgBAgBAiBcUeAyNa4jwB6f0KAECAECAFCgBAgBAgBQoAQSAUBIlupwEqFEgKEACFACBAChAAhQAgQAoTAuCNAZGvcRwC9PyFACBAChAAhQAgQAoQAIUAIpIIAka1UYKVCCQFCgBAgBAgBQoAQIAQIAUJg3BEgsjXuI4DenxAgBAgBQoAQIAQIAUKAECAEUkGAyFYqsFKhhAAhQAgQAoQAIUAIEAKEACEw7ggQ2Rr3EUDvTwgQAoQAIUAIEAKEACFACBACqSBAZCsVWKlQQoAQIAQIAUKAECAECAFCgBAYdwT+H0nKSzWoCEBUAAAAAElFTkSuQmCC)"
      ]
    },
    {
      "cell_type": "code",
      "execution_count": null,
      "metadata": {
        "id": "oG-I0nrW5Sh9"
      },
      "outputs": [],
      "source": []
    },
    {
      "cell_type": "markdown",
      "metadata": {
        "id": "wvvYJ3bc37uu"
      },
      "source": [
        "# **Step 5:** Optimization (Grid Search and Random Search)"
      ]
    },
    {
      "cell_type": "code",
      "execution_count": null,
      "metadata": {
        "id": "RkylXpEM4E2e"
      },
      "outputs": [],
      "source": [
        "from pyspark.ml.tuning import ParamGridBuilder, CrossValidator"
      ]
    },
    {
      "cell_type": "markdown",
      "metadata": {
        "id": "r83actog6ZSy"
      },
      "source": [
        "# Grid Search results"
      ]
    },
    {
      "cell_type": "code",
      "execution_count": null,
      "metadata": {
        "id": "27g3Va4Vdcmw"
      },
      "outputs": [],
      "source": []
    },
    {
      "cell_type": "markdown",
      "metadata": {
        "id": "XnFubfEE6WwJ"
      },
      "source": [
        "# Random Search results"
      ]
    },
    {
      "cell_type": "code",
      "execution_count": null,
      "metadata": {
        "id": "TXpKSvFQ4dAQ"
      },
      "outputs": [],
      "source": []
    }
  ],
  "metadata": {
    "colab": {
      "provenance": []
    },
    "kernelspec": {
      "display_name": "Python 3",
      "name": "python3"
    },
    "language_info": {
      "codemirror_mode": {
        "name": "ipython",
        "version": 3
      },
      "file_extension": ".py",
      "mimetype": "text/x-python",
      "name": "python",
      "nbconvert_exporter": "python",
      "pygments_lexer": "ipython3",
      "version": "3.11.5"
    }
  },
  "nbformat": 4,
  "nbformat_minor": 0
}
