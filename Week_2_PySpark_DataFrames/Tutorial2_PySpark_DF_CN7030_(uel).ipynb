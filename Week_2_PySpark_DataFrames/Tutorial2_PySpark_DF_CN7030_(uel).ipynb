{
  "cells": [
    {
      "cell_type": "markdown",
      "metadata": {
        "id": "gjuAVgrxmIo3"
      },
      "source": [
        "# **Unlock the Potential of PySpark DataFrames: Hands-on Tips and Personalizations**\n",
        "\n",
        "`University of East London, Docklands Campus, 2023-24`\n",
        "\n",
        "`module name`: **`Machine Learning on Big Data (CN7030) - MSc AI&DS`**\n",
        "\n",
        "`Author`: **`Dr Amin Karami (PG Academic Lead in CDT School)`**\n",
        "\n",
        "`E`: **`a.karami@uel.ac.uk`**\n",
        "\n",
        "`W`: **`http://www.aminkarami.com/`**\n",
        "\n",
        "---\n",
        "\n",
        "**DataFrame (DF)**: Schema (named columns) + declarative language. A DataFrame is a Dataset organized into named columns. It is conceptually equivalent to a table in a relational database. It is very efficient for strucutred data.\n",
        "\n",
        "data: https://drive.google.com/file/d/1HiP_TkWYClAmzhhOFzhXdOXTfZb9DoB_/view?usp=drive_link (641MB)\n",
        "\n",
        "source: https://spark.apache.org/docs/latest/sql-programming-guide.html\n",
        "\n",
        "source: https://spark.apache.org/docs/latest/api/python/reference/"
      ]
    },
    {
      "cell_type": "markdown",
      "metadata": {
        "id": "ZSEJYGn6Byzu"
      },
      "source": [
        "# **Section 1: Initialize PySpark**"
      ]
    },
    {
      "cell_type": "code",
      "execution_count": 3,
      "metadata": {
        "colab": {
          "base_uri": "https://localhost:8080/"
        },
        "id": "0LWTJaC8mHL5",
        "outputId": "7527fd10-b7d9-429e-ae5e-6b021da5be3d"
      },
      "outputs": [
        {
          "name": "stdout",
          "output_type": "stream",
          "text": [
            "Collecting pyspark\n",
            "  Downloading pyspark-3.5.1.tar.gz (317.0 MB)\n",
            "\u001b[2K     \u001b[90m━━━━━━━━━━━━━━━━━━━━━━━━━━━━━━━━━━━━━━━━\u001b[0m \u001b[32m317.0/317.0 MB\u001b[0m \u001b[31m3.3 MB/s\u001b[0m eta \u001b[36m0:00:00\u001b[0m\n",
            "\u001b[?25h  Preparing metadata (setup.py) ... \u001b[?25l\u001b[?25hdone\n",
            "Requirement already satisfied: py4j==0.10.9.7 in /usr/local/lib/python3.10/dist-packages (from pyspark) (0.10.9.7)\n",
            "Building wheels for collected packages: pyspark\n",
            "  Building wheel for pyspark (setup.py) ... \u001b[?25l\u001b[?25hdone\n",
            "  Created wheel for pyspark: filename=pyspark-3.5.1-py2.py3-none-any.whl size=317488491 sha256=032d433e72e1091fff73b69241a37d2a37cde8cc8f43794763fbe43766c0ea3e\n",
            "  Stored in directory: /root/.cache/pip/wheels/80/1d/60/2c256ed38dddce2fdd93be545214a63e02fbd8d74fb0b7f3a6\n",
            "Successfully built pyspark\n",
            "Installing collected packages: pyspark\n",
            "Successfully installed pyspark-3.5.1\n"
          ]
        }
      ],
      "source": [
        "# !pip3 install pyspark"
      ]
    },
    {
      "cell_type": "markdown",
      "metadata": {
        "id": "pkw8clYXax_k"
      },
      "source": [
        "# **System Check**"
      ]
    },
    {
      "cell_type": "code",
      "execution_count": 4,
      "metadata": {
        "colab": {
          "base_uri": "https://localhost:8080/"
        },
        "id": "nIRRJNQkanIW",
        "outputId": "c603e243-1cff-4098-fc8c-ab710e2661b6"
      },
      "outputs": [
        {
          "name": "stdout",
          "output_type": "stream",
          "text": [
            "               total        used        free      shared  buff/cache   available\n",
            "Mem:            12Gi       613Mi       4.9Gi       1.0Mi       7.1Gi        11Gi\n",
            "Swap:             0B          0B          0B\n"
          ]
        }
      ],
      "source": [
        "# !free -h"
      ]
    },
    {
      "cell_type": "markdown",
      "metadata": {
        "id": "1hxR5oWBc--l"
      },
      "source": [
        "# **Linking with Spark**"
      ]
    },
    {
      "cell_type": "code",
      "execution_count": 6,
      "metadata": {
        "colab": {
          "base_uri": "https://localhost:8080/",
          "height": 220
        },
        "id": "e3pTfRiwTMeY",
        "outputId": "d1b8e11b-59d2-4ba7-9647-0710b4a5ca2a"
      },
      "outputs": [
        {
          "data": {
            "text/html": [
              "\n",
              "            <div>\n",
              "                <p><b>SparkSession - in-memory</b></p>\n",
              "                \n",
              "        <div>\n",
              "            <p><b>SparkContext</b></p>\n",
              "\n",
              "            <p><a href=\"http://b5e3cf42343e:4040\">Spark UI</a></p>\n",
              "\n",
              "            <dl>\n",
              "              <dt>Version</dt>\n",
              "                <dd><code>v3.5.1</code></dd>\n",
              "              <dt>Master</dt>\n",
              "                <dd><code>local[*]</code></dd>\n",
              "              <dt>AppName</dt>\n",
              "                <dd><code>Tutorial2_CN7030</code></dd>\n",
              "            </dl>\n",
              "        </div>\n",
              "        \n",
              "            </div>\n",
              "        "
            ],
            "text/plain": [
              "<pyspark.sql.session.SparkSession at 0x78c0500ba470>"
            ]
          },
          "execution_count": 6,
          "metadata": {},
          "output_type": "execute_result"
        }
      ],
      "source": [
        "# Linking with Spark\n",
        "import pyspark\n",
        "from pyspark.sql import SparkSession\n",
        "\n",
        "spark = SparkSession.builder \\\n",
        "                    .appName(\"Tutorial2_CN7030\") \\\n",
        "                    .master(\"local[*]\") \\\n",
        "                    .config(\"spark.executor.memory\", \"3g\") \\\n",
        "                    .config(\"spark.driver.memory\", \"2g\") \\\n",
        "                    .config(\"spark.executor.cores\", \"2\") \\\n",
        "                    .config(\"spark.sql.inMemoryColumnarStorage.compressed\", \"true\") \\\n",
        "                    .getOrCreate()\n",
        "\n",
        "spark"
      ]
    },
    {
      "cell_type": "markdown",
      "metadata": {
        "id": "x9zOJhv8beV5"
      },
      "source": [
        "# **Connect to the Google Drive**"
      ]
    },
    {
      "cell_type": "code",
      "execution_count": 7,
      "metadata": {
        "colab": {
          "base_uri": "https://localhost:8080/"
        },
        "id": "10_-HkUHbc1O",
        "outputId": "768120fc-0847-4ea3-80f5-438f8204048e"
      },
      "outputs": [
        {
          "name": "stdout",
          "output_type": "stream",
          "text": [
            "Mounted at /content/drive\n"
          ]
        }
      ],
      "source": [
        "# from google.colab import drive\n",
        "# drive.mount('/content/drive')"
      ]
    },
    {
      "cell_type": "markdown",
      "metadata": {
        "id": "qfm3366qOMyk"
      },
      "source": [
        "# **Section 2: Create PySpark DataFrame from CSV**"
      ]
    },
    {
      "cell_type": "code",
      "execution_count": 8,
      "metadata": {
        "colab": {
          "base_uri": "https://localhost:8080/"
        },
        "id": "1n39Bv24XHjt",
        "outputId": "37d86a79-6078-4bbe-8e20-7e1879c470b5"
      },
      "outputs": [
        {
          "name": "stdout",
          "output_type": "stream",
          "text": [
            "+--------------------+------------------+------+------------------+-----+------+------+------+--------+------+--------+\n",
            "|                  id|               age|salary|             score|sales|height|weight|gender|category|income|expenses|\n",
            "+--------------------+------------------+------+------------------+-----+------+------+------+--------+------+--------+\n",
            "|  0.8017532427858894| 79.71301351894658|     4| 37.10369234532471|   47|    62|     5|Female|       B|     8|      85|\n",
            "|  0.6565552949992319| 24.22600602366628|     6| 79.75769828959885|    8|    30|    42|  Male|       A|    70|      85|\n",
            "|  0.2515595782593636| 70.97364852287149|    17| 71.71375356646551|   82|     1|    72|  Male|       A|    66|      53|\n",
            "|  0.2073428376111074| 45.09378549789149|    32|              NULL|   59|    12|    21|  Male|       B|    56|       2|\n",
            "|  0.6392921379278927|30.357970527906065|    13|              NULL|   22|    69|    58|Female|       A|     0|      74|\n",
            "|  0.8505582285081454|              NULL|    14| 36.36958873390776|   16|    57|    51|Female|       B|    22|      52|\n",
            "|  0.8184715436384177|              NULL|    88|              NULL|   23|    54|    41|  Male|       B|    19|      27|\n",
            "|  0.7555506990689408| 57.94047153077633|    37| 99.05156945373632|   18|    67|    94|Female|       A|    91|      89|\n",
            "| 0.34380469538701885|              NULL|     0| 68.12994102604317|   50|    66|    29|Female|       A|    39|      10|\n",
            "| 0.07531261247891552| 78.00738662272417|    44|57.377461450339794|   32|    83|    68|  Male|       A|     3|      35|\n",
            "|  0.6520025939987977| 5.739474360847097|    60|              NULL|   69|    20|    59|Female|       A|    89|      94|\n",
            "|  0.6703304054828096| 82.09315695991832|    61| 86.30976835817982|   13|    64|     5|Female|       B|    30|      10|\n",
            "|   0.635481528615935|29.232534249025754|    33| 72.17303870051973|   19|    42|     5|Female|       A|     1|      11|\n",
            "|  0.6088087252200041| 46.04202629270567|    20| 82.62279087618317|   83|    39|    26|  Male|       A|    10|      58|\n",
            "|  0.9688522184233442|              NULL|    32|              NULL|   55|    88|    83|Female|       A|    98|      18|\n",
            "| 0.12847898035637806| 58.74807147974267|    41|25.651553478847266|   96|     0|     3|Female|       B|    36|      23|\n",
            "|  0.7095122526980591|              NULL|    69|              NULL|   72|    39|    97|  Male|       A|    88|      18|\n",
            "|0.054599328832547256|58.445521939730064|    84|29.619007900937078|   94|    72|    74|  Male|       A|    78|      87|\n",
            "|  0.8363451490970935| 9.267427535136319|    35|              NULL|   62|    16|    30|Female|       B|    13|      69|\n",
            "| 0.06476522637900317|              NULL|    47|              NULL|   78|    19|     4|Female|       B|    80|      23|\n",
            "+--------------------+------------------+------+------------------+-----+------+------+------+--------+------+--------+\n",
            "only showing top 20 rows\n",
            "\n",
            "root\n",
            " |-- id: double (nullable = true)\n",
            " |-- age: double (nullable = true)\n",
            " |-- salary: integer (nullable = true)\n",
            " |-- score: double (nullable = true)\n",
            " |-- sales: integer (nullable = true)\n",
            " |-- height: integer (nullable = true)\n",
            " |-- weight: integer (nullable = true)\n",
            " |-- gender: string (nullable = true)\n",
            " |-- category: string (nullable = true)\n",
            " |-- income: integer (nullable = true)\n",
            " |-- expenses: integer (nullable = true)\n",
            "\n",
            "10000000\n",
            "11\n"
          ]
        }
      ],
      "source": [
        "from os import truncate\n",
        "df = spark.read.format('csv').load('data.csv', header = True, inferSchema = True)\n",
        "\n",
        "df.show(truncate = True)\n",
        "\n",
        "df.printSchema()\n",
        "\n",
        "print(df.count())\n",
        "print(len(df.columns))"
      ]
    },
    {
      "cell_type": "markdown",
      "metadata": {
        "id": "JFZJfbFyJbrr"
      },
      "source": [
        "# How many partitions?"
      ]
    },
    {
      "cell_type": "code",
      "execution_count": 9,
      "metadata": {
        "colab": {
          "base_uri": "https://localhost:8080/"
        },
        "id": "aaB1cqUhJayf",
        "outputId": "8529ab5e-ad59-491b-d1b4-0df5362b1708"
      },
      "outputs": [
        {
          "data": {
            "text/plain": [
              "6"
            ]
          },
          "execution_count": 9,
          "metadata": {},
          "output_type": "execute_result"
        }
      ],
      "source": [
        "df.rdd.getNumPartitions()"
      ]
    },
    {
      "cell_type": "markdown",
      "metadata": {
        "id": "CBUU6lKRJ5_s"
      },
      "source": [
        "# Let's increase the number of partitions"
      ]
    },
    {
      "cell_type": "code",
      "execution_count": 10,
      "metadata": {
        "colab": {
          "base_uri": "https://localhost:8080/"
        },
        "id": "eQ-wBuxDJy7V",
        "outputId": "176218ed-8d2d-4940-8daf-461f91844cd9"
      },
      "outputs": [
        {
          "data": {
            "text/plain": [
              "8"
            ]
          },
          "execution_count": 10,
          "metadata": {},
          "output_type": "execute_result"
        }
      ],
      "source": [
        "df2 = df.repartition(8)\n",
        "df2.rdd.getNumPartitions()"
      ]
    },
    {
      "cell_type": "code",
      "execution_count": 11,
      "metadata": {
        "colab": {
          "base_uri": "https://localhost:8080/"
        },
        "id": "7htdZfUc5k2F",
        "outputId": "bfbf709d-4106-4489-ab90-4a2c07e9f3da"
      },
      "outputs": [
        {
          "data": {
            "text/plain": [
              "2"
            ]
          },
          "execution_count": 11,
          "metadata": {},
          "output_type": "execute_result"
        }
      ],
      "source": [
        "df3 = df.repartition('category')\n",
        "df3.rdd.getNumPartitions()"
      ]
    },
    {
      "cell_type": "code",
      "execution_count": 12,
      "metadata": {
        "colab": {
          "base_uri": "https://localhost:8080/"
        },
        "id": "rYmsXRVv5uwo",
        "outputId": "9db81e2a-c1cc-4780-fa89-2a5b1821ce67"
      },
      "outputs": [
        {
          "data": {
            "text/plain": [
              "6"
            ]
          },
          "execution_count": 12,
          "metadata": {},
          "output_type": "execute_result"
        }
      ],
      "source": [
        "df4 = df.repartition(6,'category')\n",
        "df4.rdd.getNumPartitions()"
      ]
    },
    {
      "cell_type": "code",
      "execution_count": 13,
      "metadata": {
        "colab": {
          "base_uri": "https://localhost:8080/"
        },
        "id": "kUMixaL1565p",
        "outputId": "abc8beaa-5f1c-430b-c0e2-cdb3b31e9128"
      },
      "outputs": [
        {
          "data": {
            "text/plain": [
              "10"
            ]
          },
          "execution_count": 13,
          "metadata": {},
          "output_type": "execute_result"
        }
      ],
      "source": [
        "df5 = df.repartitionByRange(10,'income')\n",
        "df5.rdd.getNumPartitions()"
      ]
    },
    {
      "cell_type": "markdown",
      "metadata": {
        "id": "PJz7GJS2dVqk"
      },
      "source": [
        "# Write the DF to disk in a partitioned manner"
      ]
    },
    {
      "cell_type": "code",
      "execution_count": 14,
      "metadata": {
        "id": "Fw-9D3g4dh4_"
      },
      "outputs": [],
      "source": [
        "df5.write.option('header', True) \\\n",
        "    .partitionBy('gender') \\\n",
        "    .mode('overwrite')\\\n",
        "    .csv('gender_df5')"
      ]
    },
    {
      "cell_type": "code",
      "execution_count": 15,
      "metadata": {
        "id": "qDbsGGTMFF4N"
      },
      "outputs": [],
      "source": [
        "df4.write.option('header', True) \\\n",
        "    .partitionBy('gender') \\\n",
        "    .mode('overwrite')\\\n",
        "    .csv('gender_df4')"
      ]
    },
    {
      "cell_type": "code",
      "execution_count": 16,
      "metadata": {
        "id": "Wp80Xo3YNGcO"
      },
      "outputs": [],
      "source": [
        "df5.repartition(3).write.option('header', True) \\\n",
        "    .partitionBy('gender') \\\n",
        "    .mode('overwrite')\\\n",
        "    .csv('gender_df5_repartitioned')"
      ]
    },
    {
      "cell_type": "code",
      "execution_count": null,
      "metadata": {
        "id": "X8UUKh2yTFcQ"
      },
      "outputs": [],
      "source": [
        "df4.write.option('header', True) \\\n",
        "    .partitionBy('gender') \\\n",
        "    .mode('overwrite')\\\n",
        "    .csv('gender_df4')\n",
        "\n",
        "# Set record limitations for files\n",
        "# spark.conf.set(\"spark.sql.files.maxRecordsPerFile\", \"500000\")"
      ]
    },
    {
      "cell_type": "code",
      "execution_count": 17,
      "metadata": {
        "id": "omjp8bJ7TuvI"
      },
      "outputs": [],
      "source": [
        "#  Partition based on coalesce\n",
        "\n",
        "df5.coalesce(6).write.option('header', True) \\\n",
        "    .partitionBy('gender','category') \\\n",
        "    .mode('overwrite')\\\n",
        "    .csv('gender_df5_two_partitions')"
      ]
    },
    {
      "cell_type": "markdown",
      "metadata": {
        "id": "kVjzSCVmnN7l"
      },
      "source": [
        "# **Section 3: DataFrame Operations and Transformations**"
      ]
    },
    {
      "cell_type": "code",
      "execution_count": 20,
      "metadata": {
        "colab": {
          "base_uri": "https://localhost:8080/"
        },
        "id": "yglZp0fpnONc",
        "outputId": "c17dcd99-fce6-4694-e56e-01e4beafde8c"
      },
      "outputs": [
        {
          "name": "stdout",
          "output_type": "stream",
          "text": [
            "+------------------+------+------+\n",
            "|               age|salary|gender|\n",
            "+------------------+------+------+\n",
            "| 24.22600602366628|     6|  Male|\n",
            "| 70.97364852287149|    17|  Male|\n",
            "|30.357970527906065|    13|Female|\n",
            "| 57.94047153077633|    37|Female|\n",
            "|              NULL|     0|Female|\n",
            "+------------------+------+------+\n",
            "only showing top 5 rows\n",
            "\n"
          ]
        }
      ],
      "source": [
        "#  SELECT\n",
        "\n",
        "df4.select(\"age\",\"salary\",\"gender\").show(5)"
      ]
    },
    {
      "cell_type": "code",
      "execution_count": 21,
      "metadata": {
        "colab": {
          "base_uri": "https://localhost:8080/"
        },
        "id": "PbFrkMHmVMXL",
        "outputId": "a73ce447-5b46-46b6-96ba-92ea2762100f"
      },
      "outputs": [
        {
          "name": "stdout",
          "output_type": "stream",
          "text": [
            "+--------------------+------------------+------+------------------+-----+------+------+------+--------+------+--------+\n",
            "|                  id|               age|salary|             score|sales|height|weight|gender|category|income|expenses|\n",
            "+--------------------+------------------+------+------------------+-----+------+------+------+--------+------+--------+\n",
            "|0.054599328832547256|58.445521939730064|    84|29.619007900937078|   94|    72|    74|  Male|       A|    78|      87|\n",
            "|  0.6455441593808561| 68.47061987702949|    75|              NULL|   62|    31|    44|Female|       A|     2|      42|\n",
            "|  0.8316027808351703|   64.751100030111|    96|              NULL|   13|    24|    30|Female|       A|     5|      19|\n",
            "| 0.28862497348283567| 34.91854369238886|    76|              NULL|   73|    43|    48|  Male|       A|    83|      39|\n",
            "|  0.7408143015309203| 52.83048441274324|    95|46.769693535768866|   59|     4|    10|Female|       A|    19|      38|\n",
            "+--------------------+------------------+------+------------------+-----+------+------+------+--------+------+--------+\n",
            "only showing top 5 rows\n",
            "\n"
          ]
        }
      ],
      "source": [
        "#  FILTER\n",
        "\n",
        "df4.filter((df4.age > 30) & (df4.salary > 50)).show(5)"
      ]
    },
    {
      "cell_type": "code",
      "execution_count": 28,
      "metadata": {
        "colab": {
          "base_uri": "https://localhost:8080/"
        },
        "id": "6h3FKxB8V2Bx",
        "outputId": "6171a5dd-33a5-42c1-9d5c-606166ea5542"
      },
      "outputs": [
        {
          "name": "stdout",
          "output_type": "stream",
          "text": [
            "+--------+-----------+----------+\n",
            "|category|mean_salary|sum_salary|\n",
            "+--------+-----------+----------+\n",
            "|       A|      49.49| 247412615|\n",
            "|       B|      49.51| 247582007|\n",
            "+--------+-----------+----------+\n",
            "\n"
          ]
        }
      ],
      "source": [
        "from pyspark.sql.functions import mean, sum, round\n",
        "# AVERAGE\n",
        "df4.groupBy(\"category\").agg(\n",
        "    round(mean('salary'),2).alias(\"mean_salary\"),\n",
        "    sum('salary').alias(\"sum_salary\")\n",
        "    ).show(10)"
      ]
    },
    {
      "cell_type": "code",
      "execution_count": 29,
      "metadata": {
        "colab": {
          "base_uri": "https://localhost:8080/"
        },
        "id": "dsemzO3kXrU_",
        "outputId": "03aa98ff-448c-46f9-ae27-362974dc46b3"
      },
      "outputs": [
        {
          "name": "stdout",
          "output_type": "stream",
          "text": [
            "+--------------------+------------------+------+-----------------+-----+------+------+------+--------+------+--------+\n",
            "|                  id|               age|salary|            score|sales|height|weight|gender|category|income|expenses|\n",
            "+--------------------+------------------+------+-----------------+-----+------+------+------+--------+------+--------+\n",
            "| 0.16933902279650814|              NULL|    37|99.99842061516966|   63|    99|    78|Female|       B|    60|      36|\n",
            "|  0.4414179206080756| 47.31491599580799|    17|99.99629934376922|   96|    99|    53|Female|       A|    13|      63|\n",
            "|  0.6365465779061935| 75.97020871674081|    59|99.99605629873773|   56|    99|    82|  Male|       A|    36|      64|\n",
            "|   0.137572774067943| 46.72427635576165|    16|99.99478454051689|   14|    99|    68|Female|       B|    20|      47|\n",
            "|  0.7188334449042442|              NULL|    24|99.99452559017527|    5|    99|    66|Female|       B|    73|      92|\n",
            "|  0.6186372186898206| 68.40377455302632|     9|99.99385982998031|   24|    99|    55|Female|       A|     4|      20|\n",
            "| 0.01702158526089126|              NULL|    71|99.99101670242504|   95|    99|    41|Female|       A|    54|      17|\n",
            "| 0.21138505523915896|1.5385584748399683|    41|99.99093901732411|   76|    99|    95|Female|       A|     2|       1|\n",
            "|   0.595808681898794|              NULL|    27|99.98989820461763|   61|    99|    12|  Male|       B|    71|       3|\n",
            "|0.053015111980724394| 91.17708899283798|    46|99.98754671474525|   74|    99|    41|  Male|       B|     8|      82|\n",
            "+--------------------+------------------+------+-----------------+-----+------+------+------+--------+------+--------+\n",
            "only showing top 10 rows\n",
            "\n"
          ]
        }
      ],
      "source": [
        "#  SORT\n",
        "df4.sort(\"height\", \"score\", ascending=False).show(10)"
      ]
    },
    {
      "cell_type": "code",
      "execution_count": 31,
      "metadata": {
        "colab": {
          "base_uri": "https://localhost:8080/"
        },
        "id": "qaxJbBzFYkn-",
        "outputId": "afa64650-f7f7-4afd-a03c-da5b74b0553d"
      },
      "outputs": [
        {
          "name": "stdout",
          "output_type": "stream",
          "text": [
            "+-------------------+------------------+------+------------------+-----+------+------+------+--------+-------------+--------+\n",
            "|                 id|               age|salary|      annual_score|sales|height|weight|gender|category|annual_income|expenses|\n",
            "+-------------------+------------------+------+------------------+-----+------+------+------+--------+-------------+--------+\n",
            "| 0.6565552949992319| 24.22600602366628|     6| 79.75769828959885|    8|    30|    42|  Male|       A|           70|      85|\n",
            "| 0.2515595782593636| 70.97364852287149|    17| 71.71375356646551|   82|     1|    72|  Male|       A|           66|      53|\n",
            "| 0.6392921379278927|30.357970527906065|    13|              NULL|   22|    69|    58|Female|       A|            0|      74|\n",
            "| 0.7555506990689408| 57.94047153077633|    37| 99.05156945373632|   18|    67|    94|Female|       A|           91|      89|\n",
            "|0.34380469538701885|              NULL|     0| 68.12994102604317|   50|    66|    29|Female|       A|           39|      10|\n",
            "|0.07531261247891552| 78.00738662272417|    44|57.377461450339794|   32|    83|    68|  Male|       A|            3|      35|\n",
            "| 0.6520025939987977| 5.739474360847097|    60|              NULL|   69|    20|    59|Female|       A|           89|      94|\n",
            "|  0.635481528615935|29.232534249025754|    33| 72.17303870051973|   19|    42|     5|Female|       A|            1|      11|\n",
            "| 0.6088087252200041| 46.04202629270567|    20| 82.62279087618317|   83|    39|    26|  Male|       A|           10|      58|\n",
            "| 0.9688522184233442|              NULL|    32|              NULL|   55|    88|    83|Female|       A|           98|      18|\n",
            "+-------------------+------------------+------+------------------+-----+------+------+------+--------+-------------+--------+\n",
            "only showing top 10 rows\n",
            "\n"
          ]
        }
      ],
      "source": [
        "# RENAME COLUMNS\n",
        "\n",
        "renamed_df = df4.withColumnRenamed(\"income\", \"annual_income\")\\\n",
        "                .withColumnRenamed(\"score\",\"annual_score\")\n",
        "\n",
        "renamed_df.show(10)"
      ]
    },
    {
      "cell_type": "code",
      "execution_count": 33,
      "metadata": {
        "colab": {
          "base_uri": "https://localhost:8080/"
        },
        "id": "2ojDDhysZ6zk",
        "outputId": "d2666d6c-83d0-44ab-9ea5-0de169694289"
      },
      "outputs": [
        {
          "name": "stdout",
          "output_type": "stream",
          "text": [
            "+------------------+------+------------------+-----+------+------+--------+------+--------+\n",
            "|               age|salary|             score|sales|weight|gender|category|income|expenses|\n",
            "+------------------+------+------------------+-----+------+------+--------+------+--------+\n",
            "| 24.22600602366628|     6| 79.75769828959885|    8|    42|  Male|       A|    70|      85|\n",
            "| 70.97364852287149|    17| 71.71375356646551|   82|    72|  Male|       A|    66|      53|\n",
            "|30.357970527906065|    13|              NULL|   22|    58|Female|       A|     0|      74|\n",
            "| 57.94047153077633|    37| 99.05156945373632|   18|    94|Female|       A|    91|      89|\n",
            "|              NULL|     0| 68.12994102604317|   50|    29|Female|       A|    39|      10|\n",
            "| 78.00738662272417|    44|57.377461450339794|   32|    68|  Male|       A|     3|      35|\n",
            "| 5.739474360847097|    60|              NULL|   69|    59|Female|       A|    89|      94|\n",
            "|29.232534249025754|    33| 72.17303870051973|   19|     5|Female|       A|     1|      11|\n",
            "| 46.04202629270567|    20| 82.62279087618317|   83|    26|  Male|       A|    10|      58|\n",
            "|              NULL|    32|              NULL|   55|    83|Female|       A|    98|      18|\n",
            "+------------------+------+------------------+-----+------+------+--------+------+--------+\n",
            "only showing top 10 rows\n",
            "\n"
          ]
        }
      ],
      "source": [
        "# DROP COLUMN\n",
        "reduce_df = df4.drop(\"id\",\"height\")\n",
        "reduce_df.show(10)"
      ]
    },
    {
      "cell_type": "markdown",
      "metadata": {
        "id": "UqTYN3CSbAof"
      },
      "source": [
        "# Section 4 : Working with Missing Data"
      ]
    },
    {
      "cell_type": "code",
      "execution_count": 34,
      "metadata": {
        "colab": {
          "base_uri": "https://localhost:8080/"
        },
        "id": "9kFKRxalnh_S",
        "outputId": "8db74742-e82e-4ab1-e5db-8e22a72f7cc0"
      },
      "outputs": [
        {
          "name": "stdout",
          "output_type": "stream",
          "text": [
            "+---+-------+------+-------+-----+------+------+------+--------+------+--------+\n",
            "| id|    age|salary|  score|sales|height|weight|gender|category|income|expenses|\n",
            "+---+-------+------+-------+-----+------+------+------+--------+------+--------+\n",
            "|  0|4000499|     0|4001316|    0|     0|     0|     0|       0|     0|       0|\n",
            "+---+-------+------+-------+-----+------+------+------+--------+------+--------+\n",
            "\n"
          ]
        }
      ],
      "source": [
        "from pyspark.sql.functions import col\n",
        "\n",
        "# loop over each columns and see for null values (one liner for loop)\n",
        "missing_valuses = df4.select([sum(col(c).isNull().cast(\"int\")).alias(c) for c in df4.columns])\n",
        "\n",
        "missing_valuses.show()"
      ]
    },
    {
      "cell_type": "code",
      "execution_count": 35,
      "metadata": {
        "colab": {
          "base_uri": "https://localhost:8080/"
        },
        "id": "6__3SttpcgR8",
        "outputId": "eb409639-8c1a-4a76-d95c-8358a623603f"
      },
      "outputs": [
        {
          "name": "stdout",
          "output_type": "stream",
          "text": [
            "+--------------------+------------------+------+------------------+-----+------+------+------+--------+------+--------+\n",
            "|                  id|               age|salary|             score|sales|height|weight|gender|category|income|expenses|\n",
            "+--------------------+------------------+------+------------------+-----+------+------+------+--------+------+--------+\n",
            "|  0.6565552949992319| 24.22600602366628|     6| 79.75769828959885|    8|    30|    42|  Male|       A|    70|      85|\n",
            "|  0.2515595782593636| 70.97364852287149|    17| 71.71375356646551|   82|     1|    72|  Male|       A|    66|      53|\n",
            "|  0.7555506990689408| 57.94047153077633|    37| 99.05156945373632|   18|    67|    94|Female|       A|    91|      89|\n",
            "| 0.07531261247891552| 78.00738662272417|    44|57.377461450339794|   32|    83|    68|  Male|       A|     3|      35|\n",
            "|   0.635481528615935|29.232534249025754|    33| 72.17303870051973|   19|    42|     5|Female|       A|     1|      11|\n",
            "|  0.6088087252200041| 46.04202629270567|    20| 82.62279087618317|   83|    39|    26|  Male|       A|    10|      58|\n",
            "|0.054599328832547256|58.445521939730064|    84|29.619007900937078|   94|    72|    74|  Male|       A|    78|      87|\n",
            "|  0.5454863233449233| 36.65540490085631|     3| 80.95472655129328|   60|    35|    93|  Male|       A|    25|      88|\n",
            "|  0.7408143015309203| 52.83048441274324|    95|46.769693535768866|   59|     4|    10|Female|       A|    19|      38|\n",
            "|4.552782766258367...|  36.8279008351304|    34| 63.51762459107621|   43|     6|    83|Female|       A|    69|      45|\n",
            "| 0.45401368947315324| 83.01161743120828|    83| 21.36473871373613|   10|    48|     0|Female|       A|    12|      72|\n",
            "| 0.17341238506215195|  81.8143902590269|    67| 67.67123640498184|   52|    72|    10|Female|       A|    65|      96|\n",
            "|  0.5436339619980622|  41.2143749297729|    18|19.465354791626822|   34|    26|    97|Female|       A|    53|      60|\n",
            "| 0.29046522630155214| 42.35735206845776|    81|56.120306677745255|    5|    64|    35|  Male|       A|    47|      76|\n",
            "|  0.7943068875839633|  75.3903419244539|    74| 66.35318574415247|   29|    93|    54|  Male|       A|    15|      82|\n",
            "|  0.6515133759440173|39.656089700526934|     8| 76.25487950602805|   41|    66|    57|Female|       A|    50|      81|\n",
            "|  0.6942668428415231| 69.44668653860472|    15|  80.4118897410932|   37|    38|    25|  Male|       A|    24|      98|\n",
            "|   0.984190209323684|48.482201430183444|    45| 85.24063319315002|    5|    51|    54|Female|       A|     8|      15|\n",
            "|  0.5952518968572876| 25.79457498026566|    54|17.344834627413174|    4|    67|    45|Female|       A|    38|      99|\n",
            "|  0.7443564202615621|24.045143751523245|    76|29.160812675849577|   15|    96|    85|Female|       A|    43|      17|\n",
            "|  0.8221862496266605|12.279886742711177|    41| 42.63083160031057|   37|     5|    20|Female|       A|    10|       7|\n",
            "| 0.42209389822423127|  78.7461304906123|    74| 73.03733090876065|   95|    45|     0|Female|       A|     6|      75|\n",
            "|  0.3871980478593575| 22.84411860050861|    54| 79.77579554360324|   58|    69|    86|  Male|       A|    99|      84|\n",
            "|  0.7822529254605886|40.457376179462045|    12|  87.1317636393187|   13|     0|    32|Female|       A|    70|      61|\n",
            "|  0.9393682711804451|46.283529628848996|    87| 39.03480729217751|   21|    95|    21|Female|       A|    29|      90|\n",
            "|  0.7006118369998707|62.653816338958855|    88|26.861292908047417|   96|    69|     1|  Male|       A|     4|       6|\n",
            "|  0.2547914552871575|34.014451238236965|    49| 57.82091312149059|   21|    36|    29|Female|       A|    59|      24|\n",
            "|  0.9965520076533626|1.5897648519317298|    95| 25.50171682259228|   45|    63|    91|Female|       A|    43|      36|\n",
            "|  0.5625350802710253| 52.41441447339614|    12|  75.3431520322275|   94|    36|    56|  Male|       A|    11|      78|\n",
            "|  0.5287080333548386| 80.25681867868703|    69| 4.243762877642354|   11|    98|    28|  Male|       A|    97|      31|\n",
            "+--------------------+------------------+------+------------------+-----+------+------+------+--------+------+--------+\n",
            "only showing top 30 rows\n",
            "\n"
          ]
        }
      ],
      "source": [
        "# A logical copy that does not affect df4\n",
        "df_copy = df4.select(\"*\")\n",
        "\n",
        "# Drop null values\n",
        "df_cleaned = df_copy.dropna()\n",
        "df_cleaned.show(30)\n",
        "df_cleaned.count()"
      ]
    },
    {
      "cell_type": "code",
      "execution_count": 39,
      "metadata": {
        "colab": {
          "base_uri": "https://localhost:8080/"
        },
        "id": "4FfolX2-d7sH",
        "outputId": "540c009f-c49d-4a71-d242-f4624afde319"
      },
      "outputs": [
        {
          "name": "stdout",
          "output_type": "stream",
          "text": [
            "+---+---+------+-----+-----+------+------+------+--------+------+--------+\n",
            "| id|age|salary|score|sales|height|weight|gender|category|income|expenses|\n",
            "+---+---+------+-----+-----+------+------+------+--------+------+--------+\n",
            "|  0|  0|     0|    0|    0|     0|     0|     0|       0|     0|       0|\n",
            "+---+---+------+-----+-----+------+------+------+--------+------+--------+\n",
            "\n"
          ]
        }
      ],
      "source": [
        "#  Again check if there's any null values in the record using df_cleaned\n",
        "\n",
        "# loop over each columns and see for null values (one liner for loop)\n",
        "missing_valuses = df_cleaned.select([sum(col(c).isNull().cast(\"int\")).alias(c) for c in df4.columns])\n",
        "\n",
        "missing_valuses.show()"
      ]
    },
    {
      "cell_type": "code",
      "execution_count": 40,
      "metadata": {
        "colab": {
          "base_uri": "https://localhost:8080/"
        },
        "id": "D_tgbFP1eaGU",
        "outputId": "9b8a02c3-6e47-400e-d198-977ba65174ab"
      },
      "outputs": [
        {
          "name": "stdout",
          "output_type": "stream",
          "text": [
            "+--------------------+------------------+------+------------------+-----+------+------+------+--------+------+--------+\n",
            "|                  id|               age|salary|             score|sales|height|weight|gender|category|income|expenses|\n",
            "+--------------------+------------------+------+------------------+-----+------+------+------+--------+------+--------+\n",
            "|  0.6565552949992319| 24.22600602366628|     6| 79.75769828959885|    8|    30|    42|  Male|       A|    70|      85|\n",
            "|  0.2515595782593636| 70.97364852287149|    17| 71.71375356646551|   82|     1|    72|  Male|       A|    66|      53|\n",
            "|  0.6392921379278927|30.357970527906065|    13|              NULL|   22|    69|    58|Female|       A|     0|      74|\n",
            "|  0.7555506990689408| 57.94047153077633|    37| 99.05156945373632|   18|    67|    94|Female|       A|    91|      89|\n",
            "| 0.07531261247891552| 78.00738662272417|    44|57.377461450339794|   32|    83|    68|  Male|       A|     3|      35|\n",
            "|  0.6520025939987977| 5.739474360847097|    60|              NULL|   69|    20|    59|Female|       A|    89|      94|\n",
            "|   0.635481528615935|29.232534249025754|    33| 72.17303870051973|   19|    42|     5|Female|       A|     1|      11|\n",
            "|  0.6088087252200041| 46.04202629270567|    20| 82.62279087618317|   83|    39|    26|  Male|       A|    10|      58|\n",
            "|0.054599328832547256|58.445521939730064|    84|29.619007900937078|   94|    72|    74|  Male|       A|    78|      87|\n",
            "|  0.7232072841267063| 56.98358930373385|    20|              NULL|   59|    14|    64|  Male|       A|    45|      51|\n",
            "|  0.9792774293958025| 5.850178599840006|    20|              NULL|   99|     9|    61|Female|       A|    16|       8|\n",
            "|  0.6455441593808561| 68.47061987702949|    75|              NULL|   62|    31|    44|Female|       A|     2|      42|\n",
            "|0.005039492476539786| 64.93671011719317|    45|              NULL|   31|    63|    62|  Male|       A|    35|       6|\n",
            "|  0.5454863233449233| 36.65540490085631|     3| 80.95472655129328|   60|    35|    93|  Male|       A|    25|      88|\n",
            "|  0.7664261144217706|3.5734458508151823|    92|              NULL|    1|    32|     4|Female|       A|    76|      94|\n",
            "|  0.8316027808351703|   64.751100030111|    96|              NULL|   13|    24|    30|Female|       A|     5|      19|\n",
            "| 0.28862497348283567| 34.91854369238886|    76|              NULL|   73|    43|    48|  Male|       A|    83|      39|\n",
            "| 0.48818332179439294| 16.66692284929838|    84|              NULL|   16|    72|    46|  Male|       A|    35|      36|\n",
            "|  0.6472468118936782| 25.08848500202907|    12|              NULL|    1|    60|    54|Female|       A|    87|      87|\n",
            "| 0.16621753840716358| 89.39373477112586|    18|              NULL|    8|    73|    63|Female|       A|    54|      56|\n",
            "|0.001979578565689...| 19.95627122828123|    86|              NULL|   26|    41|    12|  Male|       A|    17|      93|\n",
            "|  0.7408143015309203| 52.83048441274324|    95|46.769693535768866|   59|     4|    10|Female|       A|    19|      38|\n",
            "| 0.14028386492977396|14.802205609816365|    67|              NULL|   11|    72|     2|Female|       A|    36|      12|\n",
            "|4.552782766258367...|  36.8279008351304|    34| 63.51762459107621|   43|     6|    83|Female|       A|    69|      45|\n",
            "| 0.29746959713685284|22.724104697136426|    46|              NULL|    7|    67|    37|  Male|       A|    42|      41|\n",
            "| 0.45401368947315324| 83.01161743120828|    83| 21.36473871373613|   10|    48|     0|Female|       A|    12|      72|\n",
            "| 0.17341238506215195|  81.8143902590269|    67| 67.67123640498184|   52|    72|    10|Female|       A|    65|      96|\n",
            "|  0.1284038436524787|  57.1053406644524|     2|              NULL|    5|    43|    38|  Male|       A|    75|      54|\n",
            "|  0.5436339619980622|  41.2143749297729|    18|19.465354791626822|   34|    26|    97|Female|       A|    53|      60|\n",
            "|  0.6257409192259076| 81.22047201238028|    94|              NULL|   98|    21|    68|Female|       A|    35|      27|\n",
            "+--------------------+------------------+------+------------------+-----+------+------+------+--------+------+--------+\n",
            "only showing top 30 rows\n",
            "\n"
          ]
        },
        {
          "data": {
            "text/plain": [
              "5999501"
            ]
          },
          "execution_count": 40,
          "metadata": {},
          "output_type": "execute_result"
        }
      ],
      "source": [
        "#  Drop selected columns\n",
        "\n",
        "columns_to_check = [\"age\",\"salary\"]\n",
        "# A logical copy that does not affect df4\n",
        "df_copy = df4.select(\"*\")\n",
        "\n",
        "# Drop null values of columns_to_check\n",
        "df_cleaned = df_copy.dropna(subset=columns_to_check) # subset\n",
        "df_cleaned.show(30)\n",
        "df_cleaned.count()"
      ]
    },
    {
      "cell_type": "code",
      "execution_count": 41,
      "metadata": {
        "colab": {
          "base_uri": "https://localhost:8080/"
        },
        "id": "4SktopFIfkUC",
        "outputId": "5a258e38-2cd8-438f-f9dc-40e266f8b8f1"
      },
      "outputs": [
        {
          "name": "stdout",
          "output_type": "stream",
          "text": [
            "+--------------------+------------------+------+------------------+-----+------+------+------+--------+------+--------+\n",
            "|                  id|               age|salary|             score|sales|height|weight|gender|category|income|expenses|\n",
            "+--------------------+------------------+------+------------------+-----+------+------+------+--------+------+--------+\n",
            "|  0.6565552949992319| 24.22600602366628|     6| 79.75769828959885|    8|    30|    42|  Male|       A|    70|      85|\n",
            "|  0.2515595782593636| 70.97364852287149|    17| 71.71375356646551|   82|     1|    72|  Male|       A|    66|      53|\n",
            "|  0.6392921379278927|30.357970527906065|    13|              50.0|   22|    69|    58|Female|       A|     0|      74|\n",
            "|  0.7555506990689408| 57.94047153077633|    37| 99.05156945373632|   18|    67|    94|Female|       A|    91|      89|\n",
            "| 0.34380469538701885|              30.0|     0| 68.12994102604317|   50|    66|    29|Female|       A|    39|      10|\n",
            "| 0.07531261247891552| 78.00738662272417|    44|57.377461450339794|   32|    83|    68|  Male|       A|     3|      35|\n",
            "|  0.6520025939987977| 5.739474360847097|    60|              50.0|   69|    20|    59|Female|       A|    89|      94|\n",
            "|   0.635481528615935|29.232534249025754|    33| 72.17303870051973|   19|    42|     5|Female|       A|     1|      11|\n",
            "|  0.6088087252200041| 46.04202629270567|    20| 82.62279087618317|   83|    39|    26|  Male|       A|    10|      58|\n",
            "|  0.9688522184233442|              30.0|    32|              50.0|   55|    88|    83|Female|       A|    98|      18|\n",
            "|  0.7095122526980591|              30.0|    69|              50.0|   72|    39|    97|  Male|       A|    88|      18|\n",
            "|0.054599328832547256|58.445521939730064|    84|29.619007900937078|   94|    72|    74|  Male|       A|    78|      87|\n",
            "|  0.7232072841267063| 56.98358930373385|    20|              50.0|   59|    14|    64|  Male|       A|    45|      51|\n",
            "|  0.9792774293958025| 5.850178599840006|    20|              50.0|   99|     9|    61|Female|       A|    16|       8|\n",
            "|  0.6455441593808561| 68.47061987702949|    75|              50.0|   62|    31|    44|Female|       A|     2|      42|\n",
            "|   0.483451238159184|              30.0|    24|              50.0|   94|    78|    64|Female|       A|    20|      25|\n",
            "|0.005039492476539786| 64.93671011719317|    45|              50.0|   31|    63|    62|  Male|       A|    35|       6|\n",
            "|  0.5454863233449233| 36.65540490085631|     3| 80.95472655129328|   60|    35|    93|  Male|       A|    25|      88|\n",
            "|  0.7664261144217706|3.5734458508151823|    92|              50.0|    1|    32|     4|Female|       A|    76|      94|\n",
            "| 0.49419657787059956|              30.0|    32| 16.81279961603194|   86|    74|    42|Female|       A|    90|      20|\n",
            "|  0.6578555647494496|              30.0|    46|              50.0|   36|    58|     0|Female|       A|    41|      37|\n",
            "|0.010815371607771573|              30.0|    40|6.1423164855707535|   37|    73|    61|Female|       A|    39|      73|\n",
            "|  0.8316027808351703|   64.751100030111|    96|              50.0|   13|    24|    30|Female|       A|     5|      19|\n",
            "|  0.8903944884892366|              30.0|    81|              50.0|   41|    48|     8|Female|       A|    82|      90|\n",
            "|  0.8946384637460324|              30.0|    32|16.222098630847015|   68|    85|    69|  Male|       A|    94|      25|\n",
            "|  0.2616187823085325|              30.0|    39| 91.41075311900889|   65|    88|    51|  Male|       A|    63|      18|\n",
            "|  0.7670569675151151|              30.0|    74|              50.0|   10|    19|    29|  Male|       A|    74|      87|\n",
            "| 0.28862497348283567| 34.91854369238886|    76|              50.0|   73|    43|    48|  Male|       A|    83|      39|\n",
            "|   0.247320653730023|              30.0|    44|55.584824186246664|   16|    89|     7|Female|       A|    82|      39|\n",
            "| 0.48818332179439294| 16.66692284929838|    84|              50.0|   16|    72|    46|  Male|       A|    35|      36|\n",
            "|  0.6472468118936782| 25.08848500202907|    12|              50.0|    1|    60|    54|Female|       A|    87|      87|\n",
            "|  0.2824603777212489|              30.0|    79|29.952166731998563|   92|    98|     2|  Male|       A|    59|      38|\n",
            "| 0.16621753840716358| 89.39373477112586|    18|              50.0|    8|    73|    63|Female|       A|    54|      56|\n",
            "|0.001979578565689...| 19.95627122828123|    86|              50.0|   26|    41|    12|  Male|       A|    17|      93|\n",
            "|  0.9911223195821167|              30.0|    50|              50.0|   24|    34|    59|Female|       A|    73|      92|\n",
            "|   0.905720440093089|              30.0|    64|  92.2395806998369|   19|    25|    98|Female|       A|    40|      20|\n",
            "|  0.7408143015309203| 52.83048441274324|    95|46.769693535768866|   59|     4|    10|Female|       A|    19|      38|\n",
            "| 0.14028386492977396|14.802205609816365|    67|              50.0|   11|    72|     2|Female|       A|    36|      12|\n",
            "|4.552782766258367...|  36.8279008351304|    34| 63.51762459107621|   43|     6|    83|Female|       A|    69|      45|\n",
            "| 0.49223960729756844|              30.0|    53|12.854786541167496|   26|    94|    59|Female|       A|     7|      28|\n",
            "+--------------------+------------------+------+------------------+-----+------+------+------+--------+------+--------+\n",
            "only showing top 40 rows\n",
            "\n"
          ]
        }
      ],
      "source": [
        "# Fill missing values with a constant value\n",
        "\n",
        "df_copy = df4.select(\"*\")\n",
        "df_filled = df_copy.fillna({\"age\":30,\"score\":50})\n",
        "df_filled.show(40)"
      ]
    },
    {
      "cell_type": "code",
      "execution_count": 43,
      "metadata": {
        "colab": {
          "base_uri": "https://localhost:8080/"
        },
        "id": "Jiusiks4g9da",
        "outputId": "5da17850-c968-4985-f5d1-0e499718531d"
      },
      "outputs": [
        {
          "name": "stdout",
          "output_type": "stream",
          "text": [
            "+--------------------+------------------+------+------------------+-----+------+------+------+--------+------+--------+------------------+------------------+\n",
            "|                  id|               age|salary|             score|sales|height|weight|gender|category|income|expenses|       age_imputed|     score_imputed|\n",
            "+--------------------+------------------+------+------------------+-----+------+------+------+--------+------+--------+------------------+------------------+\n",
            "|  0.6565552949992319| 24.22600602366628|     6| 79.75769828959885|    8|    30|    42|  Male|       A|    70|      85| 24.22600602366628| 79.75769828959885|\n",
            "|  0.2515595782593636| 70.97364852287149|    17| 71.71375356646551|   82|     1|    72|  Male|       A|    66|      53| 70.97364852287149| 71.71375356646551|\n",
            "|  0.6392921379278927|30.357970527906065|    13|              NULL|   22|    69|    58|Female|       A|     0|      74|30.357970527906065| 49.99490561227385|\n",
            "|  0.7555506990689408| 57.94047153077633|    37| 99.05156945373632|   18|    67|    94|Female|       A|    91|      89| 57.94047153077633| 99.05156945373632|\n",
            "| 0.34380469538701885|              NULL|     0| 68.12994102604317|   50|    66|    29|Female|       A|    39|      10|49.996444602802995| 68.12994102604317|\n",
            "| 0.07531261247891552| 78.00738662272417|    44|57.377461450339794|   32|    83|    68|  Male|       A|     3|      35| 78.00738662272417|57.377461450339794|\n",
            "|  0.6520025939987977| 5.739474360847097|    60|              NULL|   69|    20|    59|Female|       A|    89|      94| 5.739474360847097| 49.99490561227385|\n",
            "|   0.635481528615935|29.232534249025754|    33| 72.17303870051973|   19|    42|     5|Female|       A|     1|      11|29.232534249025754| 72.17303870051973|\n",
            "|  0.6088087252200041| 46.04202629270567|    20| 82.62279087618317|   83|    39|    26|  Male|       A|    10|      58| 46.04202629270567| 82.62279087618317|\n",
            "|  0.9688522184233442|              NULL|    32|              NULL|   55|    88|    83|Female|       A|    98|      18|49.996444602802995| 49.99490561227385|\n",
            "|  0.7095122526980591|              NULL|    69|              NULL|   72|    39|    97|  Male|       A|    88|      18|49.996444602802995| 49.99490561227385|\n",
            "|0.054599328832547256|58.445521939730064|    84|29.619007900937078|   94|    72|    74|  Male|       A|    78|      87|58.445521939730064|29.619007900937078|\n",
            "|  0.7232072841267063| 56.98358930373385|    20|              NULL|   59|    14|    64|  Male|       A|    45|      51| 56.98358930373385| 49.99490561227385|\n",
            "|  0.9792774293958025| 5.850178599840006|    20|              NULL|   99|     9|    61|Female|       A|    16|       8| 5.850178599840006| 49.99490561227385|\n",
            "|  0.6455441593808561| 68.47061987702949|    75|              NULL|   62|    31|    44|Female|       A|     2|      42| 68.47061987702949| 49.99490561227385|\n",
            "|   0.483451238159184|              NULL|    24|              NULL|   94|    78|    64|Female|       A|    20|      25|49.996444602802995| 49.99490561227385|\n",
            "|0.005039492476539786| 64.93671011719317|    45|              NULL|   31|    63|    62|  Male|       A|    35|       6| 64.93671011719317| 49.99490561227385|\n",
            "|  0.5454863233449233| 36.65540490085631|     3| 80.95472655129328|   60|    35|    93|  Male|       A|    25|      88| 36.65540490085631| 80.95472655129328|\n",
            "|  0.7664261144217706|3.5734458508151823|    92|              NULL|    1|    32|     4|Female|       A|    76|      94|3.5734458508151823| 49.99490561227385|\n",
            "| 0.49419657787059956|              NULL|    32| 16.81279961603194|   86|    74|    42|Female|       A|    90|      20|49.996444602802995| 16.81279961603194|\n",
            "|  0.6578555647494496|              NULL|    46|              NULL|   36|    58|     0|Female|       A|    41|      37|49.996444602802995| 49.99490561227385|\n",
            "|0.010815371607771573|              NULL|    40|6.1423164855707535|   37|    73|    61|Female|       A|    39|      73|49.996444602802995|6.1423164855707535|\n",
            "|  0.8316027808351703|   64.751100030111|    96|              NULL|   13|    24|    30|Female|       A|     5|      19|   64.751100030111| 49.99490561227385|\n",
            "|  0.8903944884892366|              NULL|    81|              NULL|   41|    48|     8|Female|       A|    82|      90|49.996444602802995| 49.99490561227385|\n",
            "|  0.8946384637460324|              NULL|    32|16.222098630847015|   68|    85|    69|  Male|       A|    94|      25|49.996444602802995|16.222098630847015|\n",
            "|  0.2616187823085325|              NULL|    39| 91.41075311900889|   65|    88|    51|  Male|       A|    63|      18|49.996444602802995| 91.41075311900889|\n",
            "|  0.7670569675151151|              NULL|    74|              NULL|   10|    19|    29|  Male|       A|    74|      87|49.996444602802995| 49.99490561227385|\n",
            "| 0.28862497348283567| 34.91854369238886|    76|              NULL|   73|    43|    48|  Male|       A|    83|      39| 34.91854369238886| 49.99490561227385|\n",
            "|   0.247320653730023|              NULL|    44|55.584824186246664|   16|    89|     7|Female|       A|    82|      39|49.996444602802995|55.584824186246664|\n",
            "| 0.48818332179439294| 16.66692284929838|    84|              NULL|   16|    72|    46|  Male|       A|    35|      36| 16.66692284929838| 49.99490561227385|\n",
            "|  0.6472468118936782| 25.08848500202907|    12|              NULL|    1|    60|    54|Female|       A|    87|      87| 25.08848500202907| 49.99490561227385|\n",
            "|  0.2824603777212489|              NULL|    79|29.952166731998563|   92|    98|     2|  Male|       A|    59|      38|49.996444602802995|29.952166731998563|\n",
            "| 0.16621753840716358| 89.39373477112586|    18|              NULL|    8|    73|    63|Female|       A|    54|      56| 89.39373477112586| 49.99490561227385|\n",
            "|0.001979578565689...| 19.95627122828123|    86|              NULL|   26|    41|    12|  Male|       A|    17|      93| 19.95627122828123| 49.99490561227385|\n",
            "|  0.9911223195821167|              NULL|    50|              NULL|   24|    34|    59|Female|       A|    73|      92|49.996444602802995| 49.99490561227385|\n",
            "|   0.905720440093089|              NULL|    64|  92.2395806998369|   19|    25|    98|Female|       A|    40|      20|49.996444602802995|  92.2395806998369|\n",
            "|  0.7408143015309203| 52.83048441274324|    95|46.769693535768866|   59|     4|    10|Female|       A|    19|      38| 52.83048441274324|46.769693535768866|\n",
            "| 0.14028386492977396|14.802205609816365|    67|              NULL|   11|    72|     2|Female|       A|    36|      12|14.802205609816365| 49.99490561227385|\n",
            "|4.552782766258367...|  36.8279008351304|    34| 63.51762459107621|   43|     6|    83|Female|       A|    69|      45|  36.8279008351304| 63.51762459107621|\n",
            "| 0.49223960729756844|              NULL|    53|12.854786541167496|   26|    94|    59|Female|       A|     7|      28|49.996444602802995|12.854786541167496|\n",
            "+--------------------+------------------+------+------------------+-----+------+------+------+--------+------+--------+------------------+------------------+\n",
            "only showing top 40 rows\n",
            "\n"
          ]
        }
      ],
      "source": [
        "#  fill missing value with stat (mean, median, mode, constant)\n",
        "\n",
        "from pyspark.ml.feature import Imputer\n",
        "\n",
        "imputer = Imputer(inputCols=[\"age\",\"score\"],\n",
        "                  outputCols=[\"age_imputed\",\"score_imputed\"],\n",
        "                  strategy='mean')\n",
        "\n",
        "df_imputed = imputer.fit(df4).transform(df4)\n",
        "df_imputed.show(40)"
      ]
    },
    {
      "cell_type": "code",
      "execution_count": 44,
      "metadata": {
        "colab": {
          "base_uri": "https://localhost:8080/"
        },
        "id": "OJIGfGzPjucm",
        "outputId": "2655a333-4bc6-45ae-80ba-a2ad74e3c5d0"
      },
      "outputs": [
        {
          "name": "stdout",
          "output_type": "stream",
          "text": [
            "+--------------------+------------------+------+------------------+-----+------+------+------+--------+------+--------+-----------+-------------+\n",
            "|                  id|               age|salary|             score|sales|height|weight|gender|category|income|expenses|age_imputed|score_imputed|\n",
            "+--------------------+------------------+------+------------------+-----+------+------+------+--------+------+--------+-----------+-------------+\n",
            "|  0.6565552949992319| 24.22600602366628|     6| 79.75769828959885|    8|    30|    42|  Male|       A|    70|      85|         24|       79.758|\n",
            "|  0.2515595782593636| 70.97364852287149|    17| 71.71375356646551|   82|     1|    72|  Male|       A|    66|      53|         71|       71.714|\n",
            "|  0.6392921379278927|30.357970527906065|    13|              NULL|   22|    69|    58|Female|       A|     0|      74|         30|       49.995|\n",
            "|  0.7555506990689408| 57.94047153077633|    37| 99.05156945373632|   18|    67|    94|Female|       A|    91|      89|         58|       99.052|\n",
            "| 0.34380469538701885|              NULL|     0| 68.12994102604317|   50|    66|    29|Female|       A|    39|      10|         50|       68.130|\n",
            "| 0.07531261247891552| 78.00738662272417|    44|57.377461450339794|   32|    83|    68|  Male|       A|     3|      35|         78|       57.377|\n",
            "|  0.6520025939987977| 5.739474360847097|    60|              NULL|   69|    20|    59|Female|       A|    89|      94|          6|       49.995|\n",
            "|   0.635481528615935|29.232534249025754|    33| 72.17303870051973|   19|    42|     5|Female|       A|     1|      11|         29|       72.173|\n",
            "|  0.6088087252200041| 46.04202629270567|    20| 82.62279087618317|   83|    39|    26|  Male|       A|    10|      58|         46|       82.623|\n",
            "|  0.9688522184233442|              NULL|    32|              NULL|   55|    88|    83|Female|       A|    98|      18|         50|       49.995|\n",
            "|  0.7095122526980591|              NULL|    69|              NULL|   72|    39|    97|  Male|       A|    88|      18|         50|       49.995|\n",
            "|0.054599328832547256|58.445521939730064|    84|29.619007900937078|   94|    72|    74|  Male|       A|    78|      87|         58|       29.619|\n",
            "|  0.7232072841267063| 56.98358930373385|    20|              NULL|   59|    14|    64|  Male|       A|    45|      51|         57|       49.995|\n",
            "|  0.9792774293958025| 5.850178599840006|    20|              NULL|   99|     9|    61|Female|       A|    16|       8|          6|       49.995|\n",
            "|  0.6455441593808561| 68.47061987702949|    75|              NULL|   62|    31|    44|Female|       A|     2|      42|         68|       49.995|\n",
            "|   0.483451238159184|              NULL|    24|              NULL|   94|    78|    64|Female|       A|    20|      25|         50|       49.995|\n",
            "|0.005039492476539786| 64.93671011719317|    45|              NULL|   31|    63|    62|  Male|       A|    35|       6|         65|       49.995|\n",
            "|  0.5454863233449233| 36.65540490085631|     3| 80.95472655129328|   60|    35|    93|  Male|       A|    25|      88|         37|       80.955|\n",
            "|  0.7664261144217706|3.5734458508151823|    92|              NULL|    1|    32|     4|Female|       A|    76|      94|          4|       49.995|\n",
            "| 0.49419657787059956|              NULL|    32| 16.81279961603194|   86|    74|    42|Female|       A|    90|      20|         50|       16.813|\n",
            "|  0.6578555647494496|              NULL|    46|              NULL|   36|    58|     0|Female|       A|    41|      37|         50|       49.995|\n",
            "|0.010815371607771573|              NULL|    40|6.1423164855707535|   37|    73|    61|Female|       A|    39|      73|         50|        6.142|\n",
            "|  0.8316027808351703|   64.751100030111|    96|              NULL|   13|    24|    30|Female|       A|     5|      19|         65|       49.995|\n",
            "|  0.8903944884892366|              NULL|    81|              NULL|   41|    48|     8|Female|       A|    82|      90|         50|       49.995|\n",
            "|  0.8946384637460324|              NULL|    32|16.222098630847015|   68|    85|    69|  Male|       A|    94|      25|         50|       16.222|\n",
            "|  0.2616187823085325|              NULL|    39| 91.41075311900889|   65|    88|    51|  Male|       A|    63|      18|         50|       91.411|\n",
            "|  0.7670569675151151|              NULL|    74|              NULL|   10|    19|    29|  Male|       A|    74|      87|         50|       49.995|\n",
            "| 0.28862497348283567| 34.91854369238886|    76|              NULL|   73|    43|    48|  Male|       A|    83|      39|         35|       49.995|\n",
            "|   0.247320653730023|              NULL|    44|55.584824186246664|   16|    89|     7|Female|       A|    82|      39|         50|       55.585|\n",
            "| 0.48818332179439294| 16.66692284929838|    84|              NULL|   16|    72|    46|  Male|       A|    35|      36|         17|       49.995|\n",
            "+--------------------+------------------+------+------------------+-----+------+------+------+--------+------+--------+-----------+-------------+\n",
            "only showing top 30 rows\n",
            "\n"
          ]
        }
      ],
      "source": [
        "from pyspark.sql.functions import format_number, col\n",
        "\n",
        "df_imputed = df_imputed.withColumn(\"age_imputed\", format_number(col(\"age_imputed\"),0))\n",
        "df_imputed = df_imputed.withColumn(\"score_imputed\", format_number(col(\"score_imputed\"),3))\n",
        "\n",
        "df_imputed.show(30)"
      ]
    },
    {
      "cell_type": "code",
      "execution_count": 52,
      "metadata": {
        "colab": {
          "base_uri": "https://localhost:8080/"
        },
        "id": "azBdDWPcjFjy",
        "outputId": "740fd28f-7166-4a3a-c035-6094780351c2"
      },
      "outputs": [
        {
          "name": "stdout",
          "output_type": "stream",
          "text": [
            "+-------------------+------------------+------+-----------------+-----+------+------+------+--------+------+--------+-----------------+\n",
            "|                 id|               age|salary|            score|sales|height|weight|gender|category|income|expenses|     score_filled|\n",
            "+-------------------+------------------+------+-----------------+-----+------+------+------+--------+------+--------+-----------------+\n",
            "| 0.6565552949992319| 24.22600602366628|     6|79.75769828959885|    8|    30|    42|  Male|       A|    70|      85|79.75769828959885|\n",
            "| 0.2515595782593636| 70.97364852287149|    17|71.71375356646551|   82|     1|    72|  Male|       A|    66|      53|71.71375356646551|\n",
            "| 0.6392921379278927|30.357970527906065|    13|             NULL|   22|    69|    58|Female|       A|     0|      74|          unknown|\n",
            "| 0.7555506990689408| 57.94047153077633|    37|99.05156945373632|   18|    67|    94|Female|       A|    91|      89|99.05156945373632|\n",
            "|0.34380469538701885|              NULL|     0|68.12994102604317|   50|    66|    29|Female|       A|    39|      10|68.12994102604317|\n",
            "+-------------------+------------------+------+-----------------+-----+------+------+------+--------+------+--------+-----------------+\n",
            "only showing top 5 rows\n",
            "\n"
          ]
        }
      ],
      "source": [
        "#  Advanced: replace missing values with custom logic using UDF (User Defined Functions)\n",
        "\n",
        "from pyspark.sql.functions import udf\n",
        "from pyspark.sql.types import StringType\n",
        "\n",
        "def custom_fill(value):\n",
        "  if value is None:\n",
        "    return \"unknown\"\n",
        "  else:\n",
        "    return value\n",
        "\n",
        "custom_fill_udf = udf(custom_fill, StringType()) # StringType is the return\n",
        "\n",
        "df_filled = df4.withColumn(\"score_filled\", custom_fill_udf(df4.score))\n",
        "\n",
        "df_filled.show(5)"
      ]
    }
  ],
  "metadata": {
    "colab": {
      "provenance": []
    },
    "kernelspec": {
      "display_name": "Python 3",
      "language": "python",
      "name": "python3"
    },
    "language_info": {
      "codemirror_mode": {
        "name": "ipython",
        "version": 3
      },
      "file_extension": ".py",
      "mimetype": "text/x-python",
      "name": "python",
      "nbconvert_exporter": "python",
      "pygments_lexer": "ipython3",
      "version": "3.11.5"
    }
  },
  "nbformat": 4,
  "nbformat_minor": 0
}
